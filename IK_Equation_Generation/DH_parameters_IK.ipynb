{
 "cells": [
  {
   "cell_type": "markdown",
   "metadata": {},
   "source": [
    "# Imports"
   ]
  },
  {
   "cell_type": "code",
   "execution_count": 752,
   "metadata": {},
   "outputs": [],
   "source": [
    "import numpy as np\n",
    "from sympy import *"
   ]
  },
  {
   "cell_type": "code",
   "execution_count": 2,
   "metadata": {},
   "outputs": [],
   "source": [
    "def round2zero(m, e):\n",
    "    for i in range(m.shape[0]):\n",
    "        for j in range(m.shape[1]):\n",
    "            if (isinstance(m[i,j], Float) and m[i,j] < e):\n",
    "                m[i,j] = 0\n"
   ]
  },
  {
   "cell_type": "markdown",
   "metadata": {},
   "source": [
    "# DH Matrix"
   ]
  },
  {
   "cell_type": "code",
   "execution_count": 753,
   "metadata": {},
   "outputs": [
    {
     "name": "stdout",
     "output_type": "stream",
     "text": [
      "Matrix([[cos(theta), -sin(theta), 0.0, 0.0], [sin(theta), cos(theta), 0.0, 0.0], [0.0, 0.0, 1.00000000000000, 0.0], [0.0, 0.0, 0.0, 1.00000000000000]])\n"
     ]
    }
   ],
   "source": [
    "#1st matrix\n",
    "d = Matrix(np.identity(4));\n",
    "d[2,3] = symbols('d')\n",
    "\n",
    "#2nd matrix\n",
    "theta = Matrix(np.identity(4));\n",
    "theta[0:2,0:2] = Matrix([[cos(symbols('theta')),-sin(symbols('theta'))],[sin(symbols('theta')),cos(symbols('theta'))]])\n",
    "init_printing()\n",
    "print(theta)\n",
    "#3rd matrix\n",
    "a = Matrix(np.identity(4));\n",
    "a[0,3] = symbols('a')\n",
    "\n",
    "#4th matrix\n",
    "alpha = Matrix(np.identity(4));\n",
    "alpha[1:3,1:3] = Matrix([[cos(symbols('alpha')),-sin(symbols('alpha'))],[sin(symbols('alpha')),cos(symbols('alpha'))]])\n",
    "\n",
    "#Transformation matrix\n",
    "T = alpha*a*theta*d;"
   ]
  },
  {
   "cell_type": "code",
   "execution_count": 754,
   "metadata": {},
   "outputs": [
    {
     "name": "stdout",
     "output_type": "stream",
     "text": [
      "Matrix([[a0], [0], [d0], [1]])\n",
      "Matrix([[a0 + a1*cos(theta0) + d1*sin(theta0)], [a1*sin(theta0) - d1*cos(theta0)], [d0], [1]])\n",
      "Matrix([[a0 + a1*cos(theta0) + a2*cos(theta0)*cos(theta1) + d1*sin(theta0) + d2*sin(theta0)], [a1*sin(theta0) + a2*sin(theta0)*cos(theta1) - d1*cos(theta0) - d2*cos(theta0)], [a2*sin(theta1) + d0], [1]])\n"
     ]
    },
    {
     "data": {
      "text/latex": [
       "$\\displaystyle \\left[\\begin{matrix}a_{0} + a_{1} + a_{2} + a_{3} + a_{4}\\\\- d_{1} - d_{2} - d_{3}\\\\d_{0} + d_{4}\\\\1\\end{matrix}\\right]$"
      ],
      "text/plain": [
       "⎡a₀ + a₁ + a₂ + a₃ + a₄⎤\n",
       "⎢                      ⎥\n",
       "⎢    -d₁ - d₂ - d₃     ⎥\n",
       "⎢                      ⎥\n",
       "⎢       d₀ + d₄        ⎥\n",
       "⎢                      ⎥\n",
       "⎣          1           ⎦"
      ]
     },
     "execution_count": 754,
     "metadata": {},
     "output_type": "execute_result"
    }
   ],
   "source": [
    "base = [0,symbols('a0'),symbols('theta0'),symbols('d0')]\n",
    "joint1 = [np.pi/2,symbols('a1'),symbols('theta1'),symbols('d1')]\n",
    "joint2 = [0,symbols('a2'),symbols('theta2'),symbols('d2')]\n",
    "joint3 = [0,symbols('a3'),symbols('theta3'),symbols('d3')]\n",
    "jointef = [-np.pi/2,symbols('a4'),0,symbols('d4')]\n",
    "Tor0 = T.subs([('alpha',base[0]),('a',base[1]),('theta',base[2]),('d',base[3])])\n",
    "T01 = T.subs([('alpha',joint1[0]),('a',joint1[1]),('theta',joint1[2]),('d',joint1[3])])\n",
    "T12 = T.subs([('alpha',joint2[0]),('a',joint2[1]),('theta',joint2[2]),('d',joint2[3])])\n",
    "T23 = T.subs([('alpha',joint3[0]),('a',joint3[1]),('theta',joint3[2]),('d',joint3[3])])\n",
    "T3ef = T.subs([('alpha',jointef[0]),('a',jointef[1]),('theta',jointef[2]),('d',jointef[3])])\n",
    "\n",
    "Toref = Tor0*T01*T12*T23*T3ef;\n",
    "To3 = Tor0*T01*T12*T23;\n",
    "To2 = Tor0*T01*T12;\n",
    "To1 = Tor0*T01;\n",
    "\n",
    "temp= simplify(Toref*np.array([[0],[0],[0],[1]]))\n",
    "temp1= simplify(To3*np.array([[0],[0],[0],[1]]))\n",
    "temp2= simplify(To2*np.array([[0],[0],[0],[1]]))\n",
    "temp3= simplify(To1*np.array([[0],[0],[0],[1]]))\n",
    "temp4= simplify(Tor0*np.array([[0],[0],[0],[1]]))\n",
    "#T0ef\n",
    "#T0ef[1,:]*np.array([[0],[0],[0],[1]])\n",
    "#T0ef[2,:]*np.array([[0],[0],[0],[1]])\n",
    "#T0ef[3,:]*np.array([[0],[0],[0],[1]])\n",
    "temp = nsimplify(temp,tolerance=1e-10,rational=True)\n",
    "temp_1 = nsimplify(temp1,tolerance=1e-10,rational=True)\n",
    "temp_2 = nsimplify(temp2,tolerance=1e-10,rational=True)\n",
    "temp_3 = nsimplify(temp3,tolerance=1e-10,rational=True)\n",
    "temp_4 = nsimplify(temp4,tolerance=1e-10,rational=True)\n",
    "print(temp_4)\n",
    "print(temp_3)\n",
    "print(temp_2)\n",
    "temp.subs([('theta1',0),('theta2',0),('theta3',0),('theta0',0)])\n",
    "#print(temp)"
   ]
  },
  {
   "cell_type": "code",
   "execution_count": 5,
   "metadata": {},
   "outputs": [
    {
     "data": {
      "image/png": "[encoded data removed]",
      "text/latex": [
       "$$a_{0}^{2} + 2 a_{0} a_{1} \\cos{\\left (\\theta_{0} \\right )} + 2 a_{0} a_{2} \\cos{\\left (\\theta_{0} \\right )} \\cos{\\left (\\theta_{1} \\right )} + 2 a_{0} a_{3} \\cos{\\left (\\theta_{0} \\right )} \\cos{\\left (\\theta_{1} + \\theta_{2} \\right )} + 2 a_{0} a_{4} \\cos{\\left (\\theta_{0} \\right )} \\cos{\\left (\\theta_{1} + \\theta_{2} + \\theta_{3} \\right )} + 2 a_{0} d_{1} \\sin{\\left (\\theta_{0} \\right )} + 2 a_{0} d_{2} \\sin{\\left (\\theta_{0} \\right )} + 2 a_{0} d_{3} \\sin{\\left (\\theta_{0} \\right )} - 2 a_{0} d_{4} \\sin{\\left (\\theta_{1} + \\theta_{2} + \\theta_{3} \\right )} \\cos{\\left (\\theta_{0} \\right )} + a_{1}^{2} \\sin^{2}{\\left (\\theta_{0} \\right )} + a_{1}^{2} \\cos^{2}{\\left (\\theta_{0} \\right )} + 2 a_{1} a_{2} \\sin^{2}{\\left (\\theta_{0} \\right )} \\cos{\\left (\\theta_{1} \\right )} + 2 a_{1} a_{2} \\cos^{2}{\\left (\\theta_{0} \\right )} \\cos{\\left (\\theta_{1} \\right )} + 2 a_{1} a_{3} \\sin^{2}{\\left (\\theta_{0} \\right )} \\cos{\\left (\\theta_{1} + \\theta_{2} \\right )} + 2 a_{1} a_{3} \\cos^{2}{\\left (\\theta_{0} \\right )} \\cos{\\left (\\theta_{1} + \\theta_{2} \\right )} + 2 a_{1} a_{4} \\sin^{2}{\\left (\\theta_{0} \\right )} \\cos{\\left (\\theta_{1} + \\theta_{2} + \\theta_{3} \\right )} + 2 a_{1} a_{4} \\cos^{2}{\\left (\\theta_{0} \\right )} \\cos{\\left (\\theta_{1} + \\theta_{2} + \\theta_{3} \\right )} - 2 a_{1} d_{4} \\sin^{2}{\\left (\\theta_{0} \\right )} \\sin{\\left (\\theta_{1} + \\theta_{2} + \\theta_{3} \\right )} - 2 a_{1} d_{4} \\sin{\\left (\\theta_{1} + \\theta_{2} + \\theta_{3} \\right )} \\cos^{2}{\\left (\\theta_{0} \\right )} + a_{2}^{2} \\sin^{2}{\\left (\\theta_{0} \\right )} \\cos^{2}{\\left (\\theta_{1} \\right )} + a_{2}^{2} \\cos^{2}{\\left (\\theta_{0} \\right )} \\cos^{2}{\\left (\\theta_{1} \\right )} + 2 a_{2} a_{3} \\sin^{2}{\\left (\\theta_{0} \\right )} \\cos{\\left (\\theta_{1} \\right )} \\cos{\\left (\\theta_{1} + \\theta_{2} \\right )} + 2 a_{2} a_{3} \\cos^{2}{\\left (\\theta_{0} \\right )} \\cos{\\left (\\theta_{1} \\right )} \\cos{\\left (\\theta_{1} + \\theta_{2} \\right )} + 2 a_{2} a_{4} \\sin^{2}{\\left (\\theta_{0} \\right )} \\cos{\\left (\\theta_{1} \\right )} \\cos{\\left (\\theta_{1} + \\theta_{2} + \\theta_{3} \\right )} + 2 a_{2} a_{4} \\cos^{2}{\\left (\\theta_{0} \\right )} \\cos{\\left (\\theta_{1} \\right )} \\cos{\\left (\\theta_{1} + \\theta_{2} + \\theta_{3} \\right )} - 2 a_{2} d_{4} \\sin^{2}{\\left (\\theta_{0} \\right )} \\sin{\\left (\\theta_{1} + \\theta_{2} + \\theta_{3} \\right )} \\cos{\\left (\\theta_{1} \\right )} - 2 a_{2} d_{4} \\sin{\\left (\\theta_{1} + \\theta_{2} + \\theta_{3} \\right )} \\cos^{2}{\\left (\\theta_{0} \\right )} \\cos{\\left (\\theta_{1} \\right )} + a_{3}^{2} \\sin^{2}{\\left (\\theta_{0} \\right )} \\cos^{2}{\\left (\\theta_{1} + \\theta_{2} \\right )} + a_{3}^{2} \\cos^{2}{\\left (\\theta_{0} \\right )} \\cos^{2}{\\left (\\theta_{1} + \\theta_{2} \\right )} + 2 a_{3} a_{4} \\sin^{2}{\\left (\\theta_{0} \\right )} \\cos{\\left (\\theta_{1} + \\theta_{2} \\right )} \\cos{\\left (\\theta_{1} + \\theta_{2} + \\theta_{3} \\right )} + 2 a_{3} a_{4} \\cos^{2}{\\left (\\theta_{0} \\right )} \\cos{\\left (\\theta_{1} + \\theta_{2} \\right )} \\cos{\\left (\\theta_{1} + \\theta_{2} + \\theta_{3} \\right )} - 2 a_{3} d_{4} \\sin^{2}{\\left (\\theta_{0} \\right )} \\sin{\\left (\\theta_{1} + \\theta_{2} + \\theta_{3} \\right )} \\cos{\\left (\\theta_{1} + \\theta_{2} \\right )} - 2 a_{3} d_{4} \\sin{\\left (\\theta_{1} + \\theta_{2} + \\theta_{3} \\right )} \\cos^{2}{\\left (\\theta_{0} \\right )} \\cos{\\left (\\theta_{1} + \\theta_{2} \\right )} + a_{4}^{2} \\sin^{2}{\\left (\\theta_{0} \\right )} \\cos^{2}{\\left (\\theta_{1} + \\theta_{2} + \\theta_{3} \\right )} + a_{4}^{2} \\cos^{2}{\\left (\\theta_{0} \\right )} \\cos^{2}{\\left (\\theta_{1} + \\theta_{2} + \\theta_{3} \\right )} - 2 a_{4} d_{4} \\sin^{2}{\\left (\\theta_{0} \\right )} \\sin{\\left (\\theta_{1} + \\theta_{2} + \\theta_{3} \\right )} \\cos{\\left (\\theta_{1} + \\theta_{2} + \\theta_{3} \\right )} - 2 a_{4} d_{4} \\sin{\\left (\\theta_{1} + \\theta_{2} + \\theta_{3} \\right )} \\cos^{2}{\\left (\\theta_{0} \\right )} \\cos{\\left (\\theta_{1} + \\theta_{2} + \\theta_{3} \\right )} + d_{1}^{2} \\sin^{2}{\\left (\\theta_{0} \\right )} + d_{1}^{2} \\cos^{2}{\\left (\\theta_{0} \\right )} + 2 d_{1} d_{2} \\sin^{2}{\\left (\\theta_{0} \\right )} + 2 d_{1} d_{2} \\cos^{2}{\\left (\\theta_{0} \\right )} + 2 d_{1} d_{3} \\sin^{2}{\\left (\\theta_{0} \\right )} + 2 d_{1} d_{3} \\cos^{2}{\\left (\\theta_{0} \\right )} + d_{2}^{2} \\sin^{2}{\\left (\\theta_{0} \\right )} + d_{2}^{2} \\cos^{2}{\\left (\\theta_{0} \\right )} + 2 d_{2} d_{3} \\sin^{2}{\\left (\\theta_{0} \\right )} + 2 d_{2} d_{3} \\cos^{2}{\\left (\\theta_{0} \\right )} + d_{3}^{2} \\sin^{2}{\\left (\\theta_{0} \\right )} + d_{3}^{2} \\cos^{2}{\\left (\\theta_{0} \\right )} + d_{4}^{2} \\sin^{2}{\\left (\\theta_{0} \\right )} \\sin^{2}{\\left (\\theta_{1} + \\theta_{2} + \\theta_{3} \\right )} + d_{4}^{2} \\sin^{2}{\\left (\\theta_{1} + \\theta_{2} + \\theta_{3} \\right )} \\cos^{2}{\\left (\\theta_{0} \\right )}$$"
      ],
      "text/plain": [
       "  2                                                                           \n",
       "a₀  + 2⋅a₀⋅a₁⋅cos(θ₀) + 2⋅a₀⋅a₂⋅cos(θ₀)⋅cos(θ₁) + 2⋅a₀⋅a₃⋅cos(θ₀)⋅cos(θ₁ + θ₂)\n",
       "\n",
       "                                                                              \n",
       " + 2⋅a₀⋅a₄⋅cos(θ₀)⋅cos(θ₁ + θ₂ + θ₃) + 2⋅a₀⋅d₁⋅sin(θ₀) + 2⋅a₀⋅d₂⋅sin(θ₀) + 2⋅a\n",
       "\n",
       "                                                     2    2         2    2    \n",
       "₀⋅d₃⋅sin(θ₀) - 2⋅a₀⋅d₄⋅sin(θ₁ + θ₂ + θ₃)⋅cos(θ₀) + a₁ ⋅sin (θ₀) + a₁ ⋅cos (θ₀)\n",
       "\n",
       "              2                          2                          2         \n",
       " + 2⋅a₁⋅a₂⋅sin (θ₀)⋅cos(θ₁) + 2⋅a₁⋅a₂⋅cos (θ₀)⋅cos(θ₁) + 2⋅a₁⋅a₃⋅sin (θ₀)⋅cos(\n",
       "\n",
       "                      2                               2                       \n",
       "θ₁ + θ₂) + 2⋅a₁⋅a₃⋅cos (θ₀)⋅cos(θ₁ + θ₂) + 2⋅a₁⋅a₄⋅sin (θ₀)⋅cos(θ₁ + θ₂ + θ₃) \n",
       "\n",
       "             2                                    2                           \n",
       "+ 2⋅a₁⋅a₄⋅cos (θ₀)⋅cos(θ₁ + θ₂ + θ₃) - 2⋅a₁⋅d₄⋅sin (θ₀)⋅sin(θ₁ + θ₂ + θ₃) - 2⋅\n",
       "\n",
       "                           2         2    2        2         2    2        2  \n",
       "a₁⋅d₄⋅sin(θ₁ + θ₂ + θ₃)⋅cos (θ₀) + a₂ ⋅sin (θ₀)⋅cos (θ₁) + a₂ ⋅cos (θ₀)⋅cos (θ\n",
       "\n",
       "                2                                       2                     \n",
       "₁) + 2⋅a₂⋅a₃⋅sin (θ₀)⋅cos(θ₁)⋅cos(θ₁ + θ₂) + 2⋅a₂⋅a₃⋅cos (θ₀)⋅cos(θ₁)⋅cos(θ₁ +\n",
       "\n",
       "                  2                                            2              \n",
       " θ₂) + 2⋅a₂⋅a₄⋅sin (θ₀)⋅cos(θ₁)⋅cos(θ₁ + θ₂ + θ₃) + 2⋅a₂⋅a₄⋅cos (θ₀)⋅cos(θ₁)⋅c\n",
       "\n",
       "                              2                                               \n",
       "os(θ₁ + θ₂ + θ₃) - 2⋅a₂⋅d₄⋅sin (θ₀)⋅sin(θ₁ + θ₂ + θ₃)⋅cos(θ₁) - 2⋅a₂⋅d₄⋅sin(θ₁\n",
       "\n",
       "               2                 2    2        2              2    2        2 \n",
       " + θ₂ + θ₃)⋅cos (θ₀)⋅cos(θ₁) + a₃ ⋅sin (θ₀)⋅cos (θ₁ + θ₂) + a₃ ⋅cos (θ₀)⋅cos (\n",
       "\n",
       "                      2                                                 2     \n",
       "θ₁ + θ₂) + 2⋅a₃⋅a₄⋅sin (θ₀)⋅cos(θ₁ + θ₂)⋅cos(θ₁ + θ₂ + θ₃) + 2⋅a₃⋅a₄⋅cos (θ₀)⋅\n",
       "\n",
       "                                            2                                 \n",
       "cos(θ₁ + θ₂)⋅cos(θ₁ + θ₂ + θ₃) - 2⋅a₃⋅d₄⋅sin (θ₀)⋅sin(θ₁ + θ₂ + θ₃)⋅cos(θ₁ + θ\n",
       "\n",
       "                                  2                      2    2        2      \n",
       "₂) - 2⋅a₃⋅d₄⋅sin(θ₁ + θ₂ + θ₃)⋅cos (θ₀)⋅cos(θ₁ + θ₂) + a₄ ⋅sin (θ₀)⋅cos (θ₁ + \n",
       "\n",
       "             2    2        2                            2                     \n",
       "θ₂ + θ₃) + a₄ ⋅cos (θ₀)⋅cos (θ₁ + θ₂ + θ₃) - 2⋅a₄⋅d₄⋅sin (θ₀)⋅sin(θ₁ + θ₂ + θ₃\n",
       "\n",
       "                                                   2                          \n",
       ")⋅cos(θ₁ + θ₂ + θ₃) - 2⋅a₄⋅d₄⋅sin(θ₁ + θ₂ + θ₃)⋅cos (θ₀)⋅cos(θ₁ + θ₂ + θ₃) + d\n",
       "\n",
       " 2    2         2    2                  2                  2                  \n",
       "₁ ⋅sin (θ₀) + d₁ ⋅cos (θ₀) + 2⋅d₁⋅d₂⋅sin (θ₀) + 2⋅d₁⋅d₂⋅cos (θ₀) + 2⋅d₁⋅d₃⋅sin\n",
       "\n",
       "2                  2         2    2         2    2                  2         \n",
       " (θ₀) + 2⋅d₁⋅d₃⋅cos (θ₀) + d₂ ⋅sin (θ₀) + d₂ ⋅cos (θ₀) + 2⋅d₂⋅d₃⋅sin (θ₀) + 2⋅\n",
       "\n",
       "         2         2    2         2    2         2    2        2              \n",
       "d₂⋅d₃⋅cos (θ₀) + d₃ ⋅sin (θ₀) + d₃ ⋅cos (θ₀) + d₄ ⋅sin (θ₀)⋅sin (θ₁ + θ₂ + θ₃)\n",
       "\n",
       "     2    2                  2    \n",
       " + d₄ ⋅sin (θ₁ + θ₂ + θ₃)⋅cos (θ₀)"
      ]
     },
     "execution_count": 5,
     "metadata": {},
     "output_type": "execute_result"
    }
   ],
   "source": [
    "trigsimp((expand(simplify(temp[0]**2+temp[1]**2))).rewrite(np.cos))\n",
    "#simplify((temp[0]+temp[1])**2)"
   ]
  },
  {
   "cell_type": "code",
   "execution_count": 770,
   "metadata": {},
   "outputs": [
    {
     "name": "stdout",
     "output_type": "stream",
     "text": [
      "-d1 - d2 - d3\n",
      "1.0*a0*sin(theta0) - 1.0*x*sin(theta0) + 1.0*y*cos(theta0)\n"
     ]
    },
    {
     "data": {
      "image/png": "[encoded data removed]",
      "text/latex": [
       "$\\displaystyle 2.0 \\operatorname{atan}{\\left(\\frac{- a_{0} + x + \\sqrt{a_{0}^{2} - 2.0 a_{0} x - d_{1}^{2} - 2.0 d_{1} d_{2} - 2.0 d_{1} d_{3} - d_{2}^{2} - 2.0 d_{2} d_{3} - d_{3}^{2} + x^{2} + y^{2}}}{d_{1} + d_{2} + d_{3} - y} \\right)}$"
      ],
      "text/plain": [
       "        ⎛             ________________________________________________________\n",
       "        ⎜            ╱   2                2                             2     \n",
       "        ⎜-a₀ + x + ╲╱  a₀  - 2.0⋅a₀⋅x - d₁  - 2.0⋅d₁⋅d₂ - 2.0⋅d₁⋅d₃ - d₂  - 2.\n",
       "2.0⋅atan⎜─────────────────────────────────────────────────────────────────────\n",
       "        ⎝                                       d₁ + d₂ + d₃ - y              \n",
       "\n",
       "________________________⎞\n",
       "            2    2    2 ⎟\n",
       "0⋅d₂⋅d₃ - d₃  + x  + y  ⎟\n",
       "────────────────────────⎟\n",
       "                        ⎠"
      ]
     },
     "execution_count": 770,
     "metadata": {},
     "output_type": "execute_result"
    }
   ],
   "source": [
    "temp2=simplify(nsimplify(Tor0.inv()*temp,tolerance=1e-10,rational=True))\n",
    "#print(temp2)\n",
    "temp3= simplify(Tor0.inv()*np.array([[symbols('x')],[symbols('y')],[symbols('z')],[1]]))\n",
    "print(temp2[1])\n",
    "print(temp3[1])\n",
    "res0 = solve(temp3[1] - temp2[1], 'theta0')\n",
    "res0[0]"
   ]
  },
  {
   "cell_type": "code",
   "execution_count": 771,
   "metadata": {},
   "outputs": [
    {
     "data": {
      "image/png": "[encoded data removed]",
      "text/latex": [
       "$\\displaystyle - 2.0 \\operatorname{atan}{\\left(\\frac{a_{0} - x + \\sqrt{a_{0}^{2} - 2.0 a_{0} x - d_{1}^{2} - 2.0 d_{1} d_{2} - 2.0 d_{1} d_{3} - d_{2}^{2} - 2.0 d_{2} d_{3} - d_{3}^{2} + x^{2} + y^{2}}}{d_{1} + d_{2} + d_{3} - y} \\right)}$"
      ],
      "text/plain": [
       "         ⎛            ________________________________________________________\n",
       "         ⎜           ╱   2                2                             2     \n",
       "         ⎜a₀ - x + ╲╱  a₀  - 2.0⋅a₀⋅x - d₁  - 2.0⋅d₁⋅d₂ - 2.0⋅d₁⋅d₃ - d₂  - 2.\n",
       "-2.0⋅atan⎜────────────────────────────────────────────────────────────────────\n",
       "         ⎝                                      d₁ + d₂ + d₃ - y              \n",
       "\n",
       "________________________⎞\n",
       "            2    2    2 ⎟\n",
       "0⋅d₂⋅d₃ - d₃  + x  + y  ⎟\n",
       "────────────────────────⎟\n",
       "                        ⎠"
      ]
     },
     "execution_count": 771,
     "metadata": {},
     "output_type": "execute_result"
    }
   ],
   "source": [
    "res0[1]"
   ]
  },
  {
   "cell_type": "code",
   "execution_count": 775,
   "metadata": {},
   "outputs": [
    {
     "name": "stdout",
     "output_type": "stream",
     "text": [
      "a2*cos(theta1) + a3*cos(theta1 + theta2)\n",
      "a2*sin(theta1) + a3*sin(theta1 + theta2)\n",
      "-a1 - a4*cos(c) + d4*sin(c) + 1.0*(a0*sin(theta0)**2 - a0 + x*cos(theta0)**2 + y*sin(2*theta0)/2)/cos(theta0)\n",
      "-a4*sin(c) - 1.0*d0 - d4*cos(c) + 1.0*z\n",
      "a2**2 + 2*a2*a3*cos(theta2) + a3**2\n",
      "solved\n",
      "a2 + a3*cos(theta2)\n"
     ]
    }
   ],
   "source": [
    "\"\"\"\n",
    "temp4=temp2[0].subs(symbols('theta1')+symbols('theta2')+symbols('theta3'),symbols('c'))\n",
    "#temp4=temp4.subs(symbols('theta1')+symbols('theta2'),symbols('theta12'))\n",
    "temp5=temp2[2].subs(symbols('theta1')+symbols('theta2')+symbols('theta3'),symbols('c'))\n",
    "#temp5=temp5.subs(symbols('theta1')+symbols('theta2'),symbols('theta12'))\n",
    "simplify(expand(temp4**2+temp5**2))\n",
    "a4 = symbols('a4')\n",
    "a1 = symbols('a1')\n",
    "d4 = symbols('d4')\n",
    "c = symbols('c')\n",
    "#print(temp4)\n",
    "temp4 = temp4-(a4*cos(c)-d4*sin(c)+a1)\n",
    "print(temp4)\n",
    "#print(temp5)\n",
    "temp5 =temp5 - a4*sin(c)-d4*cos(c)\n",
    "print(temp5)\n",
    "temp6 = temp3[0]-(a4*cos(c)-d4*sin(c)+a1);\n",
    "print(temp6)\n",
    "temp7 = temp3[2]- a4*sin(c)-d4*cos(c);\n",
    "print(temp7)\n",
    "#print(simplify(temp4**2+temp5**2))\n",
    "res2 = solve(simplify(temp4**2+temp5**2)-(temp6)**2-(temp7)**2,'theta2')\n",
    "print('solved')\n",
    "c = simplify(temp4*cos('theta1')+temp5*sin('theta1'));\n",
    "print(c)\n",
    "a = temp7;#sin\n",
    "b = temp6;#cos\n",
    "res1 = np.array(symbols(['0','0']));\n",
    "res1[0] = atan2(a,b)+atan2((a**2+b**2-c**2)**(0.5),c)\n",
    "res1[1] = atan2(a,b)-atan2((a**2+b**2-c**2)**(0.5),c)\n",
    "\"\"\"\n",
    "temp4=temp2[0].subs(symbols('theta1')+symbols('theta2')+symbols('theta3'),symbols('c'))\n",
    "#temp4=temp4.subs(symbols('theta1')+symbols('theta2'),symbols('theta12'))\n",
    "temp5=temp2[2].subs(symbols('theta1')+symbols('theta2')+symbols('theta3'),symbols('c'))\n",
    "#temp5=temp5.subs(symbols('theta1')+symbols('theta2'),symbols('theta12'))\n",
    "simplify(expand(temp4**2+temp5**2))\n",
    "a4 = symbols('a4')\n",
    "a1 = symbols('a1')\n",
    "d4 = symbols('d4')\n",
    "c = symbols('c')\n",
    "temp4 = temp4-(a4*cos(c)-d4*sin(c)+a1)\n",
    "print(temp4)\n",
    "temp5 =temp5 - a4*sin(c)-d4*cos(c)\n",
    "print(temp5)\n",
    "temp6 = temp3[0]-(a4*cos(c)-d4*sin(c)+a1);\n",
    "print(temp6)\n",
    "temp7 = temp3[2]- a4*sin(c)-d4*cos(c);\n",
    "print(temp7)\n",
    "print(simplify(temp4**2+temp5**2))\n",
    "res2 = solve(simplify(temp4**2+temp5**2)-(temp6)**2-(temp7)**2,'theta2')\n",
    "print('solved')\n",
    "c = simplify(temp4*cos('theta1')+temp5*sin('theta1'));\n",
    "print(c)\n",
    "a = temp7;\n",
    "b = temp6;\n",
    "res1 = np.array(symbols(['0','0']));\n",
    "res1[0] = atan2(a,b)+atan2((a**2+b**2-c**2)**(0.5),c)\n",
    "res1[1] = atan2(a,b)-atan2((a**2+b**2-c**2)**(0.5),c)"
   ]
  },
  {
   "cell_type": "code",
   "execution_count": 772,
   "metadata": {},
   "outputs": [
    {
     "data": {
      "image/png": "[encoded data removed]",
      "text/latex": [
       "$\\displaystyle \\left[ 6.28318530717959 - \\operatorname{acos}{\\left(\\frac{0.5 \\left(\\frac{a_{0}^{2} \\sin^{4}{\\left(\\theta_{0} \\right)}}{\\cos^{2}{\\left(\\theta_{0} \\right)}} + 2.0 a_{0}^{2} - \\frac{a_{0}^{2}}{\\cos^{2}{\\left(\\theta_{0} \\right)}} + 2.0 a_{0} a_{1} \\cos{\\left(\\theta_{0} \\right)} + 2.0 a_{0} a_{4} \\cos{\\left(c \\right)} \\cos{\\left(\\theta_{0} \\right)} - 2.0 a_{0} d_{4} \\sin{\\left(c \\right)} \\cos{\\left(\\theta_{0} \\right)} - \\frac{2.0 a_{0} x \\sin^{4}{\\left(\\theta_{0} \\right)}}{\\cos^{2}{\\left(\\theta_{0} \\right)}} - 4.0 a_{0} x + \\frac{2.0 a_{0} x}{\\cos^{2}{\\left(\\theta_{0} \\right)}} + \\frac{2.0 a_{0} y \\sin^{3}{\\left(\\theta_{0} \\right)}}{\\cos{\\left(\\theta_{0} \\right)}} - 2.0 a_{0} y \\tan{\\left(\\theta_{0} \\right)} + a_{1}^{2} + 2.0 a_{1} a_{4} \\cos{\\left(c \\right)} - 2.0 a_{1} d_{4} \\sin{\\left(c \\right)} - 2.0 a_{1} x \\cos{\\left(\\theta_{0} \\right)} + \\frac{2.0 a_{1} y \\sin^{3}{\\left(\\theta_{0} \\right)}}{\\cos^{2}{\\left(\\theta_{0} \\right)}} - \\frac{2.0 a_{1} y \\sin{\\left(\\theta_{0} \\right)}}{\\cos^{2}{\\left(\\theta_{0} \\right)}} - a_{2}^{2} - a_{3}^{2} + a_{4}^{2} + 2.0 a_{4} d_{0} \\sin{\\left(c \\right)} - 2.0 a_{4} x \\cos{\\left(c \\right)} \\cos{\\left(\\theta_{0} \\right)} + \\frac{2.0 a_{4} y \\sin^{3}{\\left(\\theta_{0} \\right)} \\cos{\\left(c \\right)}}{\\cos^{2}{\\left(\\theta_{0} \\right)}} - \\frac{2.0 a_{4} y \\sin{\\left(\\theta_{0} \\right)} \\cos{\\left(c \\right)}}{\\cos^{2}{\\left(\\theta_{0} \\right)}} - 2.0 a_{4} z \\sin{\\left(c \\right)} + d_{0}^{2} + 2.0 d_{0} d_{4} \\cos{\\left(c \\right)} - 2.0 d_{0} z + d_{4}^{2} + 2.0 d_{4} x \\sin{\\left(c \\right)} \\cos{\\left(\\theta_{0} \\right)} - \\frac{2.0 d_{4} y \\sin{\\left(c \\right)} \\sin^{3}{\\left(\\theta_{0} \\right)}}{\\cos^{2}{\\left(\\theta_{0} \\right)}} + \\frac{2.0 d_{4} y \\sin{\\left(c \\right)} \\sin{\\left(\\theta_{0} \\right)}}{\\cos^{2}{\\left(\\theta_{0} \\right)}} - 2.0 d_{4} z \\cos{\\left(c \\right)} + \\frac{x^{2} \\sin^{4}{\\left(\\theta_{0} \\right)}}{\\cos^{2}{\\left(\\theta_{0} \\right)}} + 2.0 x^{2} - \\frac{x^{2}}{\\cos^{2}{\\left(\\theta_{0} \\right)}} + 2.0 x y \\sin{\\left(\\theta_{0} \\right)} \\cos{\\left(\\theta_{0} \\right)} - \\frac{y^{2} \\sin^{4}{\\left(\\theta_{0} \\right)}}{\\cos^{2}{\\left(\\theta_{0} \\right)}} - y^{2} + \\frac{y^{2}}{\\cos^{2}{\\left(\\theta_{0} \\right)}} + z^{2}\\right)}{a_{2} a_{3}} \\right)}, \\  \\operatorname{acos}{\\left(\\frac{\\frac{0.5 a_{0}^{2} \\sin^{4}{\\left(\\theta_{0} \\right)}}{\\cos^{2}{\\left(\\theta_{0} \\right)}} + a_{0}^{2} - \\frac{0.5 a_{0}^{2}}{\\cos^{2}{\\left(\\theta_{0} \\right)}} + a_{0} a_{1} \\cos{\\left(\\theta_{0} \\right)} + a_{0} a_{4} \\cos{\\left(c \\right)} \\cos{\\left(\\theta_{0} \\right)} - a_{0} d_{4} \\sin{\\left(c \\right)} \\cos{\\left(\\theta_{0} \\right)} - \\frac{a_{0} x \\sin^{4}{\\left(\\theta_{0} \\right)}}{\\cos^{2}{\\left(\\theta_{0} \\right)}} - 2.0 a_{0} x + \\frac{a_{0} x}{\\cos^{2}{\\left(\\theta_{0} \\right)}} + \\frac{a_{0} y \\sin^{3}{\\left(\\theta_{0} \\right)}}{\\cos{\\left(\\theta_{0} \\right)}} - a_{0} y \\tan{\\left(\\theta_{0} \\right)} + 0.5 a_{1}^{2} + a_{1} a_{4} \\cos{\\left(c \\right)} - a_{1} d_{4} \\sin{\\left(c \\right)} - a_{1} x \\cos{\\left(\\theta_{0} \\right)} + \\frac{a_{1} y \\sin^{3}{\\left(\\theta_{0} \\right)}}{\\cos^{2}{\\left(\\theta_{0} \\right)}} - \\frac{a_{1} y \\sin{\\left(\\theta_{0} \\right)}}{\\cos^{2}{\\left(\\theta_{0} \\right)}} - 0.5 a_{2}^{2} - 0.5 a_{3}^{2} + 0.5 a_{4}^{2} + a_{4} d_{0} \\sin{\\left(c \\right)} - a_{4} x \\cos{\\left(c \\right)} \\cos{\\left(\\theta_{0} \\right)} + \\frac{a_{4} y \\sin^{3}{\\left(\\theta_{0} \\right)} \\cos{\\left(c \\right)}}{\\cos^{2}{\\left(\\theta_{0} \\right)}} - \\frac{a_{4} y \\sin{\\left(\\theta_{0} \\right)} \\cos{\\left(c \\right)}}{\\cos^{2}{\\left(\\theta_{0} \\right)}} - a_{4} z \\sin{\\left(c \\right)} + 0.5 d_{0}^{2} + d_{0} d_{4} \\cos{\\left(c \\right)} - d_{0} z + 0.5 d_{4}^{2} + d_{4} x \\sin{\\left(c \\right)} \\cos{\\left(\\theta_{0} \\right)} - \\frac{d_{4} y \\sin{\\left(c \\right)} \\sin^{3}{\\left(\\theta_{0} \\right)}}{\\cos^{2}{\\left(\\theta_{0} \\right)}} + \\frac{d_{4} y \\sin{\\left(c \\right)} \\sin{\\left(\\theta_{0} \\right)}}{\\cos^{2}{\\left(\\theta_{0} \\right)}} - d_{4} z \\cos{\\left(c \\right)} + \\frac{0.5 x^{2} \\sin^{4}{\\left(\\theta_{0} \\right)}}{\\cos^{2}{\\left(\\theta_{0} \\right)}} + x^{2} - \\frac{0.5 x^{2}}{\\cos^{2}{\\left(\\theta_{0} \\right)}} + x y \\sin{\\left(\\theta_{0} \\right)} \\cos{\\left(\\theta_{0} \\right)} - \\frac{0.5 y^{2} \\sin^{4}{\\left(\\theta_{0} \\right)}}{\\cos^{2}{\\left(\\theta_{0} \\right)}} - 0.5 y^{2} + \\frac{0.5 y^{2}}{\\cos^{2}{\\left(\\theta_{0} \\right)}} + 0.5 z^{2}}{a_{2} a_{3}} \\right)}\\right]$"
      ],
      "text/plain": [
       "⎡                       ⎛    ⎛  2    4                     2                  \n",
       "⎢                       ⎜    ⎜a₀ ⋅sin (θ₀)         2     a₀                   \n",
       "⎢                       ⎜0.5⋅⎜──────────── + 2.0⋅a₀  - ──────── + 2.0⋅a₀⋅a₁⋅co\n",
       "⎢                       ⎜    ⎜     2                      2                   \n",
       "⎢                       ⎜    ⎝  cos (θ₀)               cos (θ₀)               \n",
       "⎢6.28318530717959 - acos⎜─────────────────────────────────────────────────────\n",
       "⎣                       ⎝                                                     \n",
       "\n",
       "                                                                          4   \n",
       "                                                              2.0⋅a₀⋅x⋅sin (θ₀\n",
       "s(θ₀) + 2.0⋅a₀⋅a₄⋅cos(c)⋅cos(θ₀) - 2.0⋅a₀⋅d₄⋅sin(c)⋅cos(θ₀) - ────────────────\n",
       "                                                                      2       \n",
       "                                                                   cos (θ₀)   \n",
       "──────────────────────────────────────────────────────────────────────────────\n",
       "                                                                              \n",
       "\n",
       "                                      3                                       \n",
       ")              2.0⋅a₀⋅x   2.0⋅a₀⋅y⋅sin (θ₀)                        2          \n",
       "─ - 4.0⋅a₀⋅x + ──────── + ───────────────── - 2.0⋅a₀⋅y⋅tan(θ₀) + a₁  + 2.0⋅a₁⋅\n",
       "                  2            cos(θ₀)                                        \n",
       "               cos (θ₀)                                                       \n",
       "──────────────────────────────────────────────────────────────────────────────\n",
       "                                                                              \n",
       "\n",
       "                                                              3               \n",
       "                                                  2.0⋅a₁⋅y⋅sin (θ₀)   2.0⋅a₁⋅y\n",
       "a₄⋅cos(c) - 2.0⋅a₁⋅d₄⋅sin(c) - 2.0⋅a₁⋅x⋅cos(θ₀) + ───────────────── - ────────\n",
       "                                                          2                  2\n",
       "                                                       cos (θ₀)           cos \n",
       "──────────────────────────────────────────────────────────────────────────────\n",
       "                                                                              \n",
       "\n",
       "                                                                              \n",
       "⋅sin(θ₀)     2     2     2                                                2.0⋅\n",
       "──────── - a₂  - a₃  + a₄  + 2.0⋅a₄⋅d₀⋅sin(c) - 2.0⋅a₄⋅x⋅cos(c)⋅cos(θ₀) + ────\n",
       "                                                                              \n",
       "(θ₀)                                                                          \n",
       "──────────────────────────────────────────────────────────────────────────────\n",
       "                                          a₂⋅a₃                               \n",
       "\n",
       "        3                                                                     \n",
       "a₄⋅y⋅sin (θ₀)⋅cos(c)   2.0⋅a₄⋅y⋅sin(θ₀)⋅cos(c)                       2        \n",
       "──────────────────── - ─────────────────────── - 2.0⋅a₄⋅z⋅sin(c) + d₀  + 2.0⋅d\n",
       "       2                          2                                           \n",
       "    cos (θ₀)                   cos (θ₀)                                       \n",
       "──────────────────────────────────────────────────────────────────────────────\n",
       "                                                                              \n",
       "\n",
       "                                                                            3 \n",
       "                           2                             2.0⋅d₄⋅y⋅sin(c)⋅sin (\n",
       "₀⋅d₄⋅cos(c) - 2.0⋅d₀⋅z + d₄  + 2.0⋅d₄⋅x⋅sin(c)⋅cos(θ₀) - ─────────────────────\n",
       "                                                                    2         \n",
       "                                                                 cos (θ₀)     \n",
       "──────────────────────────────────────────────────────────────────────────────\n",
       "                                                                              \n",
       "\n",
       "                                                   2    4                    2\n",
       "θ₀)   2.0⋅d₄⋅y⋅sin(c)⋅sin(θ₀)                     x ⋅sin (θ₀)        2      x \n",
       "─── + ─────────────────────── - 2.0⋅d₄⋅z⋅cos(c) + ─────────── + 2.0⋅x  - ─────\n",
       "                 2                                     2                    2 \n",
       "              cos (θ₀)                              cos (θ₀)             cos (\n",
       "──────────────────────────────────────────────────────────────────────────────\n",
       "                                                                              \n",
       "\n",
       "                                 2    4                2        ⎞⎞      ⎛     \n",
       "                                y ⋅sin (θ₀)    2      y        2⎟⎟      ⎜0.5⋅a\n",
       "─── + 2.0⋅x⋅y⋅sin(θ₀)⋅cos(θ₀) - ─────────── - y  + ──────── + z ⎟⎟      ⎜─────\n",
       "                                     2                2         ⎟⎟      ⎜     \n",
       "θ₀)                               cos (θ₀)         cos (θ₀)     ⎠⎟      ⎜    c\n",
       "─────────────────────────────────────────────────────────────────⎟, acos⎜─────\n",
       "                                                                 ⎠      ⎝     \n",
       "\n",
       " 2    4                   2                                                   \n",
       "₀ ⋅sin (θ₀)     2   0.5⋅a₀                                                    \n",
       "─────────── + a₀  - ──────── + a₀⋅a₁⋅cos(θ₀) + a₀⋅a₄⋅cos(c)⋅cos(θ₀) - a₀⋅d₄⋅si\n",
       "  2                    2                                                      \n",
       "os (θ₀)             cos (θ₀)                                                  \n",
       "──────────────────────────────────────────────────────────────────────────────\n",
       "                                                                              \n",
       "\n",
       "                       4                                     3                \n",
       "               a₀⋅x⋅sin (θ₀)                a₀⋅x     a₀⋅y⋅sin (θ₀)            \n",
       "n(c)⋅cos(θ₀) - ───────────── - 2.0⋅a₀⋅x + ──────── + ───────────── - a₀⋅y⋅tan(\n",
       "                     2                       2          cos(θ₀)               \n",
       "                  cos (θ₀)                cos (θ₀)                            \n",
       "──────────────────────────────────────────────────────────────────────────────\n",
       "                                                                              \n",
       "\n",
       "                                                                     3        \n",
       "            2                                                a₁⋅y⋅sin (θ₀)   a\n",
       "θ₀) + 0.5⋅a₁  + a₁⋅a₄⋅cos(c) - a₁⋅d₄⋅sin(c) - a₁⋅x⋅cos(θ₀) + ───────────── - ─\n",
       "                                                                   2          \n",
       "                                                                cos (θ₀)      \n",
       "──────────────────────────────────────────────────────────────────────────────\n",
       "                                                                              \n",
       "\n",
       "                                                                              \n",
       "₁⋅y⋅sin(θ₀)         2         2         2                                     \n",
       "─────────── - 0.5⋅a₂  - 0.5⋅a₃  + 0.5⋅a₄  + a₄⋅d₀⋅sin(c) - a₄⋅x⋅cos(c)⋅cos(θ₀)\n",
       "    2                                                                         \n",
       " cos (θ₀)                                                                     \n",
       "──────────────────────────────────────────────────────────────────────────────\n",
       "                                                           a₂⋅a₃              \n",
       "\n",
       "           3                                                                  \n",
       "   a₄⋅y⋅sin (θ₀)⋅cos(c)   a₄⋅y⋅sin(θ₀)⋅cos(c)                       2         \n",
       " + ──────────────────── - ─────────────────── - a₄⋅z⋅sin(c) + 0.5⋅d₀  + d₀⋅d₄⋅\n",
       "            2                      2                                          \n",
       "         cos (θ₀)               cos (θ₀)                                      \n",
       "──────────────────────────────────────────────────────────────────────────────\n",
       "                                                                              \n",
       "\n",
       "                                                               3              \n",
       "                      2                         d₄⋅y⋅sin(c)⋅sin (θ₀)   d₄⋅y⋅si\n",
       "cos(c) - d₀⋅z + 0.5⋅d₄  + d₄⋅x⋅sin(c)⋅cos(θ₀) - ──────────────────── + ───────\n",
       "                                                         2                    \n",
       "                                                      cos (θ₀)               c\n",
       "──────────────────────────────────────────────────────────────────────────────\n",
       "                                                                              \n",
       "\n",
       "                                  2    4                  2                   \n",
       "n(c)⋅sin(θ₀)                 0.5⋅x ⋅sin (θ₀)    2    0.5⋅x                    \n",
       "──────────── - d₄⋅z⋅cos(c) + ─────────────── + x  - ──────── + x⋅y⋅sin(θ₀)⋅cos\n",
       "  2                                 2                  2                      \n",
       "os (θ₀)                          cos (θ₀)           cos (θ₀)                  \n",
       "──────────────────────────────────────────────────────────────────────────────\n",
       "                                                                              \n",
       "\n",
       "            2    4                      2          ⎞⎤\n",
       "       0.5⋅y ⋅sin (θ₀)        2    0.5⋅y          2⎟⎥\n",
       "(θ₀) - ─────────────── - 0.5⋅y  + ──────── + 0.5⋅z ⎟⎥\n",
       "              2                      2             ⎟⎥\n",
       "           cos (θ₀)               cos (θ₀)         ⎟⎥\n",
       "───────────────────────────────────────────────────⎟⎥\n",
       "                                                   ⎠⎦"
      ]
     },
     "execution_count": 772,
     "metadata": {},
     "output_type": "execute_result"
    }
   ],
   "source": [
    "res2"
   ]
  },
  {
   "cell_type": "code",
   "execution_count": 474,
   "metadata": {},
   "outputs": [
    {
     "data": {
      "image/png": "[encoded data removed]",
      "text/latex": [
       "$\\displaystyle 30.0$"
      ],
      "text/plain": [
       "30.0000000000000"
      ]
     },
     "execution_count": 474,
     "metadata": {},
     "output_type": "execute_result"
    }
   ],
   "source": [
    "atan2(1,3**0.5)*180/np.pi"
   ]
  },
  {
   "cell_type": "code",
   "execution_count": 602,
   "metadata": {},
   "outputs": [
    {
     "name": "stdout",
     "output_type": "stream",
     "text": [
      "<function _lambdifygenerated at 0x000001DEC59EFF28>\n",
      "<function _lambdifygenerated at 0x000001DEC59EFD90>\n",
      "<function _lambdifygenerated at 0x000001DEC60B3400>\n",
      "<function _lambdifygenerated at 0x000001DEC89E1620> <function _lambdifygenerated at 0x000001DEC5733D08> <function _lambdifygenerated at 0x000001DEC5733378> <function _lambdifygenerated at 0x000001DEC8603F28> <function _lambdifygenerated at 0x000001DEC8603D08>\n"
     ]
    },
    {
     "data": {
      "text/plain": [
       "<function _lambdifygenerated(a0, a1, a2, a3, a4, d0, d1, d2, d3, d4, theta0, theta1, theta2, theta3)>"
      ]
     },
     "execution_count": 602,
     "metadata": {},
     "output_type": "execute_result"
    }
   ],
   "source": [
    "param0 = (symbols('a0'),symbols('a1'),symbols('a2'),symbols('a3'),symbols('a4'),symbols('d0'),symbols('d1'),symbols('d2'),symbols('d3'),symbols('d4'),symbols('x'),symbols('y'),symbols('z'));\n",
    "param2 = (symbols('a0'),symbols('a1'),symbols('a2'),symbols('a3'),symbols('a4'),symbols('d0'),symbols('d1'),symbols('d2'),symbols('d3'),symbols('d4'),symbols('x'),symbols('y'),symbols('z'),symbols('c'),symbols('theta0'));\n",
    "param1 = (symbols('a0'),symbols('a1'),symbols('a2'),symbols('a3'),symbols('a4'),symbols('d0'),symbols('d1'),symbols('d2'),symbols('d3'),symbols('d4'),symbols('x'),symbols('y'),symbols('z'),symbols('c'),symbols('theta0'),symbols('theta2'));\n",
    "param_fk =(symbols('a0'),symbols('a1'),symbols('a2'),symbols('a3'),symbols('a4'),symbols('d0'),symbols('d1'),symbols('d2'),symbols('d3'),symbols('d4'),symbols('theta0'),symbols('theta1'),symbols('theta2'),symbols('theta3'));\n",
    "f_theta0 = lambdify(param0, res0)\n",
    "f_theta1 = lambdify(param1, res1,'math')\n",
    "f_theta2 = lambdify(param2, res2)\n",
    "\n",
    "f_fk = lambdify( param_fk,np.array(temp))\n",
    "f_fk1 = lambdify( param_fk,np.array(temp_1))\n",
    "f_fk2 = lambdify( param_fk,np.array(temp_2))\n",
    "f_fk3 = lambdify( param_fk,np.array(temp_3))\n",
    "f_fk4 = lambdify( param_fk,np.array(temp_4))\n",
    "print(f_theta1)\n",
    "print(f_theta2)\n",
    "print(f_theta0)\n",
    "print(f_fk,f_fk1,f_fk2,f_fk3,f_fk4)\n",
    "f_fk\n",
    "#f_theta1"
   ]
  },
  {
   "cell_type": "markdown",
   "metadata": {},
   "source": [
    "# Finding offsets"
   ]
  },
  {
   "cell_type": "code",
   "execution_count": 767,
   "metadata": {
    "scrolled": true
   },
   "outputs": [
    {
     "name": "stdout",
     "output_type": "stream",
     "text": [
      "-867.9713127\n",
      "0.0\n",
      "6.224652014868315\n",
      "3.1415928586583357\n",
      "[[-867.9713127000001], [-93.8392792], [-104.49010069999768], [1]]\n",
      "0.0\n"
     ]
    }
   ],
   "source": [
    "\n",
    "\n",
    "c = 0.5*np.pi+2.219992532;\n",
    "x=-867.9713127\n",
    "#x = -930\n",
    "print(x)\n",
    "y=-93.8392792\n",
    "z=-104.4901007\n",
    "j=0\n",
    "i=0;\n",
    "theta0 = f_theta0(0,21.51692807,374.7841274,350.6004152,206.7666738,0,93.8392792,0,0,0,x,y,z)\n",
    "#c=0;\n",
    "print(theta0[j])\n",
    "\n",
    "theta2=f_theta2(0,21.51692807,374.7841274,350.6004152,206.7666738,0,93.8392792,0,0,0,x,y,z,c,theta0[j])\n",
    "print(theta2[i])\n",
    "\n",
    "theta1=f_theta1(0,21.51692807,374.7841274,350.6004152,206.7666738,0,93.8392792,0,0,0,x,y,z,c,theta0[j],theta2[i])\n",
    "print(theta1[i])\n",
    "print(f_fk(0,21.51692807,374.7841274,350.6004152,206.7666738,0,93.8392792,0,0,0,theta0[j],theta1[i],theta2[i],c-theta1[i]-theta2[i]))\n",
    "print(theta0[j])"
   ]
  },
  {
   "cell_type": "code",
   "execution_count": 252,
   "metadata": {},
   "outputs": [
    {
     "data": {
      "image/png": "[encoded data removed]",
      "text/latex": [
       "$\\displaystyle 356.6462893895586$"
      ],
      "text/plain": [
       "356.6462893895586"
      ]
     },
     "execution_count": 252,
     "metadata": {},
     "output_type": "execute_result"
    }
   ],
   "source": [
    "(theta2[i])*180/np.pi\n",
    "#theta0[j]+np.pi/2"
   ]
  },
  {
   "cell_type": "code",
   "execution_count": 659,
   "metadata": {},
   "outputs": [
    {
     "data": {
      "image/png": "[encoded data removed]",
      "text/latex": [
       "$\\displaystyle \\left[ \\left[ -798.6048461543268\\right], \\  \\left[ 352.71845668997923\\right], \\  \\left[ -104.49010069999768\\right], \\  \\left[ 1\\right]\\right]$"
      ],
      "text/plain": [
       "[[-798.6048461543268], [352.71845668997923], [-104.49010069999768], [1]]"
      ]
     },
     "execution_count": 659,
     "metadata": {},
     "output_type": "execute_result"
    }
   ],
   "source": [
    "f_fk(0,21.51692807,374.7841274,350.6004152,206.7666738,0,93.8392792,0,0,0,theta0[j]-np.pi/6,theta1[i],theta2[i],0.5*np.pi+2.219992532-theta1[i]-theta2[i])"
   ]
  },
  {
   "cell_type": "code",
   "execution_count": 660,
   "metadata": {},
   "outputs": [
    {
     "data": {
      "image/png": "[encoded data removed]",
      "text/latex": [
       "$\\displaystyle \\left[ \\left[ -705.6304157963036\\right], \\  \\left[ 299.0396442950225\\right], \\  \\left[ 255.1541465599675\\right], \\  \\left[ 1\\right]\\right]$"
      ],
      "text/plain": [
       "[[-705.6304157963036], [299.0396442950225], [255.1541465599675], [1]]"
      ]
     },
     "execution_count": 660,
     "metadata": {},
     "output_type": "execute_result"
    }
   ],
   "source": [
    "f_fk(0,21.51692807,374.7841274,350.6004152,206.7666738,0,93.8392792,0,0,0,theta0[j]-np.pi/6,theta1[i]-np.pi/6,theta2[i],0.5*np.pi+2.219992532-theta1[i]-theta2[i]+np.pi/6)"
   ]
  },
  {
   "cell_type": "code",
   "execution_count": 667,
   "metadata": {},
   "outputs": [
    {
     "data": {
      "image/png": "[encoded data removed]",
      "text/latex": [
       "$\\displaystyle \\left[ \\left[ -755.1203997205566\\right], \\  \\left[ 327.6126998358801\\right], \\  \\left[ 82.90197329680724\\right], \\  \\left[ 1\\right]\\right]$"
      ],
      "text/plain": [
       "[[-755.1203997205566], [327.6126998358801], [82.90197329680724], [1]]"
      ]
     },
     "execution_count": 667,
     "metadata": {},
     "output_type": "execute_result"
    }
   ],
   "source": [
    "f_fk(0,21.51692807,374.7841274,350.6004152,206.7666738,0,93.8392792,0,0,0,theta0[j]-np.pi/6,theta1[i]-np.pi/6,theta2[i]+np.pi/6,0.5*np.pi+2.219992532-theta1[i]-theta2[i]-np.pi/6+np.pi/6)"
   ]
  },
  {
   "cell_type": "code",
   "execution_count": 668,
   "metadata": {},
   "outputs": [
    {
     "data": {
      "image/png": "[encoded data removed]",
      "text/latex": [
       "$\\displaystyle \\left[ \\left[ -810.8252016182845\\right], \\  \\left[ -93.8392792\\right], \\  \\left[ 67.76207256316165\\right], \\  \\left[ 1\\right]\\right]$"
      ],
      "text/plain": [
       "[[-810.8252016182845], [-93.8392792], [67.76207256316165], [1]]"
      ]
     },
     "execution_count": 668,
     "metadata": {},
     "output_type": "execute_result"
    }
   ],
   "source": [
    "f_fk(0,21.51692807,374.7841274,350.6004152,206.7666738,0,93.8392792,0,0,0,theta0[j],theta1[i],theta2[i]-np.pi/6,0.5*np.pi+2.219992532-theta1[i]-theta2[i]+np.pi/6)"
   ]
  },
  {
   "cell_type": "code",
   "execution_count": 670,
   "metadata": {},
   "outputs": [
    {
     "data": {
      "image/png": "[encoded data removed]",
      "text/latex": [
       "$\\displaystyle \\left[ \\left[ -704.6331806871068\\right], \\  \\left[ -93.8392792\\right], \\  \\left[ 284.4827406963863\\right], \\  \\left[ 1\\right]\\right]$"
      ],
      "text/plain": [
       "[[-704.6331806871068], [-93.8392792], [284.4827406963863], [1]]"
      ]
     },
     "execution_count": 670,
     "metadata": {},
     "output_type": "execute_result"
    }
   ],
   "source": [
    "f_fk(0,21.51692807,374.7841274,350.6004152,206.7666738,0,93.8392792,0,0,0,theta0[j],theta1[i]-np.pi*20/180,theta2[i]-np.pi/6,0.5*np.pi+2.219992532-theta1[i]-theta2[i]+np.pi/6+np.pi*20/180)"
   ]
  },
  {
   "cell_type": "code",
   "execution_count": 662,
   "metadata": {},
   "outputs": [
    {
     "data": {
      "image/png": "[encoded data removed]",
      "text/latex": [
       "$\\displaystyle \\left[ \\left[ -501.9269566666421\\right], \\  \\left[ -93.8392792\\right], \\  \\left[ -282.23791414383084\\right], \\  \\left[ 1\\right]\\right]$"
      ],
      "text/plain": [
       "[[-501.9269566666421], [-93.8392792], [-282.23791414383084], [1]]"
      ]
     },
     "execution_count": 662,
     "metadata": {},
     "output_type": "execute_result"
    }
   ],
   "source": [
    "f_fk(0,21.51692807,374.7841274,350.6004152,206.7666738,0,93.8392792,0,0,0,theta0[j],theta1[i],theta2[i]+np.pi/6,0.5*np.pi-2.219992532-theta1[i]-theta2[i]-np.pi/6)"
   ]
  },
  {
   "cell_type": "code",
   "execution_count": 768,
   "metadata": {},
   "outputs": [
    {
     "name": "stdout",
     "output_type": "stream",
     "text": [
      "[[0], [0], [0], [1]] [[21.51692807], [-93.8392792], [0], [1]] [[-353.26719932999214], [-93.8392792], [-7.685643474640592e-05], [1]] [[-703.2671860369846], [-93.8392792], [20.509931517954044], [1]] [[-867.9713127000001], [-93.8392792], [-104.49010069999768], [1]]\n"
     ]
    }
   ],
   "source": [
    "point1=f_fk(0,21.51692807,374.7841274,350.6004152,206.7666738,0,93.8392792,0,0,0,theta0[j],theta1[i],theta2[i],c-theta1[i]-theta2[i])\n",
    "point2=f_fk1(0,21.51692807,374.7841274,350.6004152,206.7666738,0,93.8392792,0,0,0,theta0[j],theta1[i],theta2[i],c-theta1[i]-theta2[i])\n",
    "point3=f_fk2(0,21.51692807,374.7841274,350.6004152,206.7666738,0,93.8392792,0,0,0,theta0[j],theta1[i],theta2[i],c-theta1[i]-theta2[i])\n",
    "point4=f_fk3(0,21.51692807,374.7841274,350.6004152,206.7666738,0,93.8392792,0,0,0,theta0[j],theta1[i],theta2[i],c-theta1[i]-theta2[i])\n",
    "point5=f_fk4(0,21.51692807,374.7841274,350.6004152,206.7666738,0,93.8392792,0,0,0,theta0[j],theta1[i],theta2[i],c-theta1[i]-theta2[i])\n",
    "print(point5,point4,point3,point2,point1)"
   ]
  },
  {
   "cell_type": "code",
   "execution_count": 769,
   "metadata": {},
   "outputs": [
    {
     "name": "stdout",
     "output_type": "stream",
     "text": [
      "[[-867.9713127]\n",
      " [ -93.8392792]\n",
      " [-104.4901007]\n",
      " [   1.       ]] \n",
      " [[-703.26718604]\n",
      " [ -93.8392792 ]\n",
      " [  20.50993152]\n",
      " [   1.        ]] \n",
      " [[-3.53267199e+02]\n",
      " [-9.38392792e+01]\n",
      " [-7.68564347e-05]\n",
      " [ 1.00000000e+00]] \n",
      " [[ 21.51692807]\n",
      " [-93.8392792 ]\n",
      " [  0.        ]\n",
      " [  1.        ]] \n",
      " [[0]\n",
      " [0]\n",
      " [0]\n",
      " [1]]\n"
     ]
    }
   ],
   "source": [
    "import matplotlib.pyplot as plt\n",
    "import matplotlib\n",
    "from mpl_toolkits.mplot3d import axes3d, Axes3D\n",
    "from matplotlib.figure import Figure\n",
    "from matplotlib.backends.backend_tkagg import (\n",
    "    FigureCanvasTkAgg, NavigationToolbar2Tk)\n",
    "%matplotlib qt\n",
    "fig = plt.figure()\n",
    "point1 = np.array(point1)\n",
    "point2 = np.array(point2)\n",
    "point3 = np.array(point3)\n",
    "point4 = np.array(point4)\n",
    "point5 = np.array(point5)\n",
    "print(point1,'\\n',point2,'\\n',point3,'\\n',point4,'\\n',point5)\n",
    "ax = fig.add_subplot(111,projection='3d')\n",
    "ax.set_zlim(-800,500)\n",
    "ax.set_ylim(-800,500)\n",
    "ax.set_xlim(-800,500)\n",
    "ax.set_xlabel('X axis')\n",
    "ax.set_ylabel('Y axis')\n",
    "ax.set_zlabel('Z axis')\n",
    "ax.set_title('UR3 Robot')\n",
    "#print(point1[0][0])\n",
    "ax.plot3D(np.array([point1[0][0],point2[0][0],point3[0][0],point4[0][0],point5[0][0]]),np.array([point1[1][0],point2[1][0],point3[1][0],point4[1][0],point5[1][0]]), np.array([point1[2][0],point2[2][0],point3[2][0],point4[2][0],point5[2][0]]), 'gray')\n",
    "plt.show()"
   ]
  },
  {
   "cell_type": "code",
   "execution_count": 406,
   "metadata": {},
   "outputs": [],
   "source": [
    "from mpl_toolkits import mplot3d\n",
    "\n",
    "import numpy as np\n",
    "import matplotlib.pyplot as plt\n",
    "\n",
    "fig = plt.figure()\n",
    "ax = plt.axes(projection=\"3d\")\n",
    "\n",
    "plt.show()"
   ]
  },
  {
   "cell_type": "code",
   "execution_count": 747,
   "metadata": {},
   "outputs": [
    {
     "name": "stdout",
     "output_type": "stream",
     "text": [
      "[[-867.9713127]\n",
      " [ -93.8392792]\n",
      " [-104.4901007]\n",
      " [   1.       ]]\n",
      "[[650.14640106]\n",
      " [143.83112435]\n",
      " [ 16.74724725]\n",
      " [  1.        ]]\n"
     ]
    }
   ],
   "source": [
    "import scipy.io\n",
    "mat = scipy.io.loadmat('theta_adam.mat')\n",
    "theta = np.array(mat['theta']*np.pi/180);\n",
    "#theta=theta.T;\n",
    "#print(theta[0,:])\n",
    "coord =[];\n",
    "for k in range(130):\n",
    "    coord.append(f_fk(0,21.51692807,374.7841274,350.6004152,206.7666738,0,93.8392792,0,0,0,theta0[j]+theta[0,k],theta1[i]-theta[1,k],theta2[i]-theta[2,k],0.5*np.pi+2.219992532-theta1[i]-theta2[i]+theta[2,k]+theta[1,k]));\n",
    "\n",
    "coord = np.array(coord);\n",
    "print(coord[0])\n",
    "print(coord[-1])"
   ]
  },
  {
   "cell_type": "code",
   "execution_count": 749,
   "metadata": {
    "scrolled": true
   },
   "outputs": [],
   "source": [
    "import matplotlib.pyplot as plt\n",
    "plt.plot(coord[:,0])\n",
    "plt.plot(coord[:,1])\n",
    "plt.plot(coord[:,2])\n",
    "plt.show()"
   ]
  },
  {
   "cell_type": "code",
   "execution_count": 130,
   "metadata": {},
   "outputs": [
    {
     "data": {
      "image/png": "[encoded data removed]",
      "text/plain": [
       "<Figure size 432x288 with 1 Axes>"
      ]
     },
     "metadata": {
      "needs_background": "light"
     },
     "output_type": "display_data"
    },
    {
     "data": {
      "text/plain": [
       "array([212.27010597])"
      ]
     },
     "execution_count": 130,
     "metadata": {},
     "output_type": "execute_result"
    }
   ],
   "source": [
    "plt.plot(coord[:,0])\n",
    "plt.show()\n",
    "coord[-1,2]-coord[0,2]"
   ]
  },
  {
   "cell_type": "code",
   "execution_count": 298,
   "metadata": {},
   "outputs": [
    {
     "data": {
      "text/plain": [
       "array([[-473.35994275],\n",
       "       [-473.17096586],\n",
       "       [-472.96466705],\n",
       "       [-472.74051314],\n",
       "       [-472.49808452],\n",
       "       [-472.23708459],\n",
       "       [-471.95734913],\n",
       "       [-471.65885109],\n",
       "       [-471.34170051],\n",
       "       [-471.00614191],\n",
       "       [-470.65254786],\n",
       "       [-470.28140844],\n",
       "       [-469.89331847],\n",
       "       [-469.48896235],\n",
       "       [-469.0690968 ],\n",
       "       [-468.63453343],\n",
       "       [-468.18612004],\n",
       "       [-467.7247227 ],\n",
       "       [-467.25120821],\n",
       "       [-466.76642729],\n",
       "       [-466.27119923],\n",
       "       [-466.8843557 ],\n",
       "       [-467.46842917],\n",
       "       [-468.02150835],\n",
       "       [-468.54038433],\n",
       "       [-469.02121022],\n",
       "       [-469.46004165],\n",
       "       [-469.85311643],\n",
       "       [-470.19672531],\n",
       "       [-470.48664433],\n",
       "       [-470.71735323],\n",
       "       [-470.88151044],\n",
       "       [-470.97015858],\n",
       "       [-470.97383294],\n",
       "       [-470.88424677],\n",
       "       [-470.69590472],\n",
       "       [-470.4070206 ],\n",
       "       [-470.01946414],\n",
       "       [-469.53785346],\n",
       "       [-468.96811257],\n",
       "       [-468.31582695],\n",
       "       [-438.39768509],\n",
       "       [-408.39221909],\n",
       "       [-378.30360848],\n",
       "       [-348.13575476],\n",
       "       [-317.89262209],\n",
       "       [-287.57847484],\n",
       "       [-257.19801924],\n",
       "       [-226.75645169],\n",
       "       [-196.25941699],\n",
       "       [-165.71291476],\n",
       "       [-135.12319789],\n",
       "       [-104.49669942],\n",
       "       [ -73.84005292],\n",
       "       [ -43.16018666],\n",
       "       [ -12.46447757],\n",
       "       [  18.23909421],\n",
       "       [  48.94188312],\n",
       "       [  79.63462623],\n",
       "       [ 110.30763525],\n",
       "       [ 140.95107842],\n",
       "       [ 140.93946621],\n",
       "       [ 140.92721342],\n",
       "       [ 140.91490227],\n",
       "       [ 140.90253638],\n",
       "       [ 140.89012104],\n",
       "       [ 140.87765711],\n",
       "       [ 140.86514794],\n",
       "       [ 140.85259511],\n",
       "       [ 140.84000251],\n",
       "       [ 140.82737012],\n",
       "       [ 140.81469903],\n",
       "       [ 140.80199084],\n",
       "       [ 140.78924508],\n",
       "       [ 140.77646431],\n",
       "       [ 140.76364562],\n",
       "       [ 140.75079074],\n",
       "       [ 140.73789933],\n",
       "       [ 140.72496924],\n",
       "       [ 140.7119997 ],\n",
       "       [ 140.69898954],\n",
       "       [ 140.68593746],\n",
       "       [ 140.70550082],\n",
       "       [ 140.7249321 ],\n",
       "       [ 140.74422808],\n",
       "       [ 140.76338549],\n",
       "       [ 140.78240099],\n",
       "       [ 140.80127117],\n",
       "       [ 140.81999256],\n",
       "       [ 140.83856169],\n",
       "       [ 140.85697502],\n",
       "       [ 140.87522898],\n",
       "       [ 140.89331998],\n",
       "       [ 140.91124445],\n",
       "       [ 140.92899874],\n",
       "       [ 140.94657927],\n",
       "       [ 140.96398244],\n",
       "       [ 140.98120468],\n",
       "       [ 140.99824241],\n",
       "       [ 141.01509215],\n",
       "       [ 141.03175041]])"
      ]
     },
     "execution_count": 298,
     "metadata": {},
     "output_type": "execute_result"
    }
   ],
   "source": [
    "coord[:,1]"
   ]
  },
  {
   "cell_type": "code",
   "execution_count": 709,
   "metadata": {},
   "outputs": [
    {
     "name": "stdout",
     "output_type": "stream",
     "text": [
      "[621.45747764 141.63922345   5.        ]\n"
     ]
    }
   ],
   "source": [
    "mat = scipy.io.loadmat('coords.mat')\n",
    "coords_main = mat['coords'];\n",
    "coords_main = coords_main*(-10);\n",
    "coords_main[2,:]=-coords_main[2,:];\n",
    "theta0_val =[];\n",
    "theta1_val =[];\n",
    "theta2_val =[];\n",
    "x_coord_prelim = list(np.linspace(-867.9713127000001, coords_main[0,0], 20));\n",
    "x_coord_prelim = np.array(x_coord_prelim+list(np.linspace(coords_main[0,0],coords_main[0,0], 10)));\n",
    "#print(x_coord_prelim)\n",
    "y_coord_prelim = list(np.linspace(-93.8392792, coords_main[1,0], 20));\n",
    "y_coord_prelim = np.array(y_coord_prelim+list(np.linspace(coords_main[1,0],coords_main[1,0], 10)));\n",
    "z_coord_prelim = list(np.linspace(-104.49010069999768, coords_main[2,0]+80, 20));\n",
    "z_coord_prelim = np.array(z_coord_prelim+list(np.linspace(coords_main[2,0]+80, coords_main[2,0], 10)));\n",
    "i=1;\n",
    "j=0;\n",
    "for m in range(30):\n",
    "    theta0 = f_theta0(0,21.51692807,374.7841274,350.6004152,206.7666738,0,93.8392792,0,0,0,x_coord_prelim[m],y_coord_prelim[m],z_coord_prelim[m])\n",
    "    theta0_val.append(theta0[j])\n",
    "    #print(theta0[j])\n",
    "\n",
    "    theta2=f_theta2(0,21.51692807,374.7841274,350.6004152,206.7666738,0,93.8392792,0,0,0,x_coord_prelim[m],y_coord_prelim[m],z_coord_prelim[m],0.5*np.pi+2.219992532,theta0[j])\n",
    "    #print(theta2[i])\n",
    "    theta2_val.append(theta2[i])\n",
    "    theta1=f_theta1(0,21.51692807,374.7841274,350.6004152,206.7666738,0,93.8392792,0,0,0,x_coord_prelim[m],y_coord_prelim[m],z_coord_prelim[m],0.5*np.pi+2.219992532,theta0[j],theta2[i])\n",
    "    theta1_val.append(theta1[i])\n",
    "for k in range(101):\n",
    "    theta0 = f_theta0(0,21.51692807,374.7841274,350.6004152,206.7666738,0,93.8392792,0,0,0,coords_main[0,k],coords_main[1,k],coords_main[2,k])\n",
    "    theta0_val.append(theta0[j])\n",
    "    #print(theta0[j])\n",
    "\n",
    "    theta2=f_theta2(0,21.51692807,374.7841274,350.6004152,206.7666738,0,93.8392792,0,0,0,coords_main[0,k],coords_main[1,k],coords_main[2,k],0.5*np.pi+2.219992532,theta0[j])\n",
    "    #print(theta2[i])\n",
    "    theta2_val.append(theta2[i])\n",
    "    theta1=f_theta1(0,21.51692807,374.7841274,350.6004152,206.7666738,0,93.8392792,0,0,0,coords_main[0,k],coords_main[1,k],coords_main[2,k],0.5*np.pi+2.219992532,theta0[j],theta2[i])\n",
    "    theta1_val.append(theta1[i])\n",
    "    #print(theta1[i])\n",
    "print(coords_main[:,-1])"
   ]
  },
  {
   "cell_type": "code",
   "execution_count": 348,
   "metadata": {},
   "outputs": [
    {
     "name": "stdout",
     "output_type": "stream",
     "text": [
      "[[-416.45364036]\n",
      " [-473.87040442]\n",
      " [-200.        ]\n",
      " [   1.        ]]\n",
      "[[621.45747764]\n",
      " [141.63922345]\n",
      " [  5.        ]\n",
      " [  1.        ]]\n"
     ]
    }
   ],
   "source": [
    "import scipy.io\n",
    "#mat = scipy.io.loadmat('theta.mat')\n",
    "#theta = mat['ans'];\n",
    "\n",
    "\n",
    "coord =[];\n",
    "for k in range(131):\n",
    "    coord.append(f_fk(0,21.51692807,374.7841274,350.6004152,206.7666738,0,93.8392792,0,0,0,theta0_val[k],theta1_val[k],theta2_val[k],0.5*np.pi+2.219992532-theta1_val[k]-theta2_val[k]));\n",
    "\n",
    "coord = np.array(coord);\n",
    "print(coord[29])\n",
    "print(coord[-1])"
   ]
  },
  {
   "cell_type": "code",
   "execution_count": 703,
   "metadata": {},
   "outputs": [
    {
     "name": "stdout",
     "output_type": "stream",
     "text": [
      "(3, 101)\n"
     ]
    },
    {
     "data": {
      "text/plain": [
       "[<matplotlib.lines.Line2D at 0x1dec3fb4358>,\n",
       " <matplotlib.lines.Line2D at 0x1dec3fb44a8>,\n",
       " <matplotlib.lines.Line2D at 0x1dec3fb45f8>]"
      ]
     },
     "execution_count": 703,
     "metadata": {},
     "output_type": "execute_result"
    }
   ],
   "source": [
    "err = np.reshape(coord[30:,0:3],(101,3)).T-coords_main\n",
    "print(err.shape)\n",
    "plt.plot(err.T)\n",
    "#coord_pred =coord[30:,0:3];\n",
    "#plt.plot(coord_pred[:,0])"
   ]
  },
  {
   "cell_type": "code",
   "execution_count": 706,
   "metadata": {},
   "outputs": [
    {
     "data": {
      "text/plain": [
       "array([-200., -185., -170.])"
      ]
     },
     "execution_count": 706,
     "metadata": {},
     "output_type": "execute_result"
    }
   ],
   "source": [
    "coord[-1,0:3]\n",
    "coords_main[-1,0:3]"
   ]
  },
  {
   "cell_type": "code",
   "execution_count": 694,
   "metadata": {
    "scrolled": true
   },
   "outputs": [
    {
     "name": "stdout",
     "output_type": "stream",
     "text": [
      "[-473.87040442]\n"
     ]
    }
   ],
   "source": [
    "\n",
    "import matplotlib.pyplot as plt\n",
    "#plt.plot(coords_main[0,:])\n",
    "#plt.plot(coords_main[1,:])\n",
    "#plt.plot(coords_main[2,:])\n",
    "%matplotlib qt\n",
    "plt.plot(coord[:,0])\n",
    "plt.plot(coord[:,1])\n",
    "plt.plot(coord[:,2])\n",
    "plt.show()\n",
    "print(coord[31,1])"
   ]
  },
  {
   "cell_type": "code",
   "execution_count": 751,
   "metadata": {},
   "outputs": [],
   "source": [
    "import pickle as pkl\n",
    "pkl.dump([np.array(theta0_val)-np.array(theta0_val[0]),np.array(theta1_val[0])-np.array(theta1_val),np.array(theta2_val[0])-np.array(theta2_val)], open(\"theta.pkl\", \"wb\"))\n",
    "pkl.dump([coord], open(\"theta.pkl\", \"wb\"))"
   ]
  },
  {
   "cell_type": "code",
   "execution_count": 334,
   "metadata": {},
   "outputs": [
    {
     "name": "stdout",
     "output_type": "stream",
     "text": [
      "[ 176.75814294  167.54954632  163.35101802  160.22803727  157.68137473\n",
      "  155.51629839  153.63300004 -208.02750209 -209.50329321 -210.82050327\n",
      " -211.99787221 -213.04930757 -213.98542273 -214.81451552 -215.54322038\n",
      " -216.17695979 -216.72026691 -217.17702194 -217.55062833 -217.8441454\n",
      " -218.06038786 -218.20199928 -218.27150425 -218.27134256 -218.20388792\n",
      " -218.0714535  -217.8762862  -217.62055166 -217.30631192 -216.93549784\n",
      " -216.93549784 -218.89429712 -220.82095416 -222.71221914 -224.56472556\n",
      "  133.62496871  131.86033985  130.14485689  128.48194227  126.87493517\n",
      "  125.32705877  123.84139243  122.42084959  121.06816204  119.78587101\n",
      "  118.5763254   117.44168712  116.38394368  115.40492794  114.50634485\n",
      "  113.68980545  109.99515033  106.57021908  103.41950966  100.56277934\n",
      "   98.03217233   95.86900002   94.11949729   92.82938256   92.03765364\n",
      "   91.77064039   92.03765364   92.82938256   94.11949729   95.86900002\n",
      "   98.03217233  100.56277934  103.41950966  106.57021908  109.99515033\n",
      "  113.68980545  110.92176579  108.31324767  105.86437458  103.58058606\n",
      "  101.47183619   99.55184389   97.83725541   96.34663169   95.09922627\n",
      "   94.11358136   93.40603515   92.98929042   92.8712269    93.0541319\n",
      "   93.53447231   94.30324588   95.34685369   96.64835609   98.18893215\n",
      "   99.94936425  100.61900048  101.32076109  102.02131041  102.72083171\n",
      "  103.41950966  104.1175306   104.81508284  105.51235695  106.20954613\n",
      "  106.90684651  107.60445761  108.30258271  109.00142936  109.70120979\n",
      "  110.40214155  111.10444801  111.80835906  112.51411176  113.22195114\n",
      "  113.93213102  114.64491495  114.90276869  115.16979267  115.44592569\n",
      "  115.73110636  116.02527289  116.32836287  116.64031317  116.96105969\n",
      "  117.29053729  117.62867961  117.97541893  118.33068608  118.69441032\n",
      "  119.06651921  119.44693856  119.83559233  120.23240256  120.63728929\n",
      "  121.05017055]\n"
     ]
    }
   ],
   "source": [
    "theta_pkl=pkl.load( open(\"theta.pkl\", \"rb\"));\n",
    "print(np.array(theta1_val)*180/np.pi)\n",
    "#theta_pkl[1][31]*180/np.pi\n",
    "#j"
   ]
  },
  {
   "cell_type": "code",
   "execution_count": 305,
   "metadata": {},
   "outputs": [
    {
     "data": {
      "text/plain": [
       "[<matplotlib.lines.Line2D at 0x1deb6ead438>]"
      ]
     },
     "execution_count": 305,
     "metadata": {},
     "output_type": "execute_result"
    },
    {
     "data": {
      "image/png": "[encoded data removed]",
      "text/plain": [
       "<Figure size 432x288 with 1 Axes>"
      ]
     },
     "metadata": {
      "needs_background": "light"
     },
     "output_type": "display_data"
    }
   ],
   "source": [
    "#plt.plot(np.array(theta0_val)*180/pi)\n",
    "#plt.plot(np.array(theta[0,:])*180/pi)\n",
    "plt.plot(-((np.array(theta1[0])-np.array(theta1_val[30:70]))-np.array(theta[1,0:40]))*180/pi)\n",
    "plt.plot(-((np.array(theta2[0])-np.array(theta2_val[30:70]))-np.array(theta[2,0:40]))*180/pi)\n",
    "plt.plot((np.array(theta0_val[30:70])-np.array(theta0_val[0])-np.array(theta[0,0:40]))*180/pi)"
   ]
  },
  {
   "cell_type": "code",
   "execution_count": 44,
   "metadata": {},
   "outputs": [
    {
     "data": {
      "image/png": "[encoded data removed]",
      "text/latex": [
       "$$101$$"
      ],
      "text/plain": [
       "101"
      ]
     },
     "execution_count": 44,
     "metadata": {},
     "output_type": "execute_result"
    }
   ],
   "source": [
    "theta = mat['ans'];\n",
    "len(theta[1,:])"
   ]
  },
  {
   "cell_type": "code",
   "execution_count": 182,
   "metadata": {},
   "outputs": [
    {
     "data": {
      "image/png": "[encoded data removed]",
      "text/latex": [
       "$\\displaystyle \\operatorname{atan_{2}}{\\left(\\left(- \\left(a_{2} + a_{3} \\cos{\\left(\\theta_{2} \\right)}\\right)^{2} + \\left(- a_{1} - a_{4} \\cos{\\left(c \\right)} + d_{4} \\sin{\\left(c \\right)} + \\frac{1.0 \\left(a_{0} \\sin^{2}{\\left(\\theta_{0} \\right)} - a_{0} + x \\cos^{2}{\\left(\\theta_{0} \\right)} + \\frac{y \\sin{\\left(2 \\theta_{0} \\right)}}{2}\\right)}{\\cos{\\left(\\theta_{0} \\right)}}\\right)^{2} + \\left(- a_{4} \\sin{\\left(c \\right)} - 1.0 d_{0} - d_{4} \\cos{\\left(c \\right)} + 1.0 z\\right)^{2}\\right)^{0.5},a_{2} + a_{3} \\cos{\\left(\\theta_{2} \\right)} \\right)} + \\operatorname{atan_{2}}{\\left(- a_{4} \\sin{\\left(c \\right)} - 1.0 d_{0} - d_{4} \\cos{\\left(c \\right)} + 1.0 z,- a_{1} - a_{4} \\cos{\\left(c \\right)} + d_{4} \\sin{\\left(c \\right)} + \\frac{1.0 \\left(a_{0} \\sin^{2}{\\left(\\theta_{0} \\right)} - a_{0} + x \\cos^{2}{\\left(\\theta_{0} \\right)} + \\frac{y \\sin{\\left(2 \\theta_{0} \\right)}}{2}\\right)}{\\cos{\\left(\\theta_{0} \\right)}} \\right)}$"
      ],
      "text/plain": [
       "     ⎛                                                                        \n",
       "     ⎜⎛                                                                       \n",
       "     ⎜⎜                       ⎛                                  ⎛      2     \n",
       "     ⎜⎜                       ⎜                              1.0⋅⎜a₀⋅sin (θ₀) \n",
       "     ⎜⎜                   2   ⎜                                  ⎝            \n",
       "atan2⎜⎜- (a₂ + a₃⋅cos(θ₂))  + ⎜-a₁ - a₄⋅cos(c) + d₄⋅sin(c) + ─────────────────\n",
       "     ⎝⎝                       ⎝                                               \n",
       "\n",
       "                                                                              \n",
       "                                 2                                            \n",
       "            2       y⋅sin(2⋅θ₀)⎞⎞                                             \n",
       "- a₀ + x⋅cos (θ₀) + ───────────⎟⎟                                             \n",
       "                         2     ⎠⎟                                             \n",
       "────────────────────────────────⎟  + (-a₄⋅sin(c) - 1.0⋅d₀ - d₄⋅cos(c) + 1.0⋅z)\n",
       "    cos(θ₀)                     ⎠                                             \n",
       "\n",
       "  0.5                 ⎞                                                       \n",
       " ⎞                    ⎟                                                       \n",
       " ⎟                    ⎟        ⎛                                              \n",
       " ⎟                    ⎟        ⎜                                              \n",
       "2⎟                    ⎟        ⎜                                              \n",
       " ⎟   , a₂ + a₃⋅cos(θ₂)⎟ + atan2⎜-a₄⋅sin(c) - 1.0⋅d₀ - d₄⋅cos(c) + 1.0⋅z, -a₁ -\n",
       " ⎠                    ⎠        ⎝                                              \n",
       "\n",
       "                                                                           \n",
       "                                                                           \n",
       "                             ⎛      2                 2       y⋅sin(2⋅θ₀)⎞⎞\n",
       "                         1.0⋅⎜a₀⋅sin (θ₀) - a₀ + x⋅cos (θ₀) + ───────────⎟⎟\n",
       "                             ⎝                                     2     ⎠⎟\n",
       " a₄⋅cos(c) + d₄⋅sin(c) + ─────────────────────────────────────────────────⎟\n",
       "                                              cos(θ₀)                     ⎠"
      ]
     },
     "execution_count": 182,
     "metadata": {},
     "output_type": "execute_result"
    }
   ],
   "source": [
    "len(res1)\n",
    "res2[0]"
   ]
  },
  {
   "cell_type": "code",
   "execution_count": 174,
   "metadata": {},
   "outputs": [
    {
     "data": {
      "image/png": "[encoded data removed]",
      "text/latex": [
       "$\\displaystyle \\operatorname{atan_{2}}{\\left(\\left(- \\left(a_{2} + a_{3} \\cos{\\left(\\theta_{2} \\right)}\\right)^{2} + \\left(- a_{1} - a_{4} \\cos{\\left(c \\right)} + d_{4} \\sin{\\left(c \\right)} + \\frac{1.0 \\left(a_{0} \\sin^{2}{\\left(\\theta_{0} \\right)} - a_{0} + x \\cos^{2}{\\left(\\theta_{0} \\right)} + \\frac{y \\sin{\\left(2 \\theta_{0} \\right)}}{2}\\right)}{\\cos{\\left(\\theta_{0} \\right)}}\\right)^{2} + \\left(- a_{4} \\sin{\\left(c \\right)} - 1.0 d_{0} - d_{4} \\cos{\\left(c \\right)} + 1.0 z\\right)^{2}\\right)^{0.5},a_{2} + a_{3} \\cos{\\left(\\theta_{2} \\right)} \\right)} + \\operatorname{atan_{2}}{\\left(- a_{4} \\sin{\\left(c \\right)} - 1.0 d_{0} - d_{4} \\cos{\\left(c \\right)} + 1.0 z,- a_{1} - a_{4} \\cos{\\left(c \\right)} + d_{4} \\sin{\\left(c \\right)} + \\frac{1.0 \\left(a_{0} \\sin^{2}{\\left(\\theta_{0} \\right)} - a_{0} + x \\cos^{2}{\\left(\\theta_{0} \\right)} + \\frac{y \\sin{\\left(2 \\theta_{0} \\right)}}{2}\\right)}{\\cos{\\left(\\theta_{0} \\right)}} \\right)}$"
      ],
      "text/plain": [
       "     ⎛                                                                        \n",
       "     ⎜⎛                                                                       \n",
       "     ⎜⎜                       ⎛                                  ⎛      2     \n",
       "     ⎜⎜                       ⎜                              1.0⋅⎜a₀⋅sin (θ₀) \n",
       "     ⎜⎜                   2   ⎜                                  ⎝            \n",
       "atan2⎜⎜- (a₂ + a₃⋅cos(θ₂))  + ⎜-a₁ - a₄⋅cos(c) + d₄⋅sin(c) + ─────────────────\n",
       "     ⎝⎝                       ⎝                                               \n",
       "\n",
       "                                                                              \n",
       "                                 2                                            \n",
       "            2       y⋅sin(2⋅θ₀)⎞⎞                                             \n",
       "- a₀ + x⋅cos (θ₀) + ───────────⎟⎟                                             \n",
       "                         2     ⎠⎟                                             \n",
       "────────────────────────────────⎟  + (-a₄⋅sin(c) - 1.0⋅d₀ - d₄⋅cos(c) + 1.0⋅z)\n",
       "    cos(θ₀)                     ⎠                                             \n",
       "\n",
       "  0.5                 ⎞                                                       \n",
       " ⎞                    ⎟                                                       \n",
       " ⎟                    ⎟        ⎛                                              \n",
       " ⎟                    ⎟        ⎜                                              \n",
       "2⎟                    ⎟        ⎜                                              \n",
       " ⎟   , a₂ + a₃⋅cos(θ₂)⎟ + atan2⎜-a₄⋅sin(c) - 1.0⋅d₀ - d₄⋅cos(c) + 1.0⋅z, -a₁ -\n",
       " ⎠                    ⎠        ⎝                                              \n",
       "\n",
       "                                                                           \n",
       "                                                                           \n",
       "                             ⎛      2                 2       y⋅sin(2⋅θ₀)⎞⎞\n",
       "                         1.0⋅⎜a₀⋅sin (θ₀) - a₀ + x⋅cos (θ₀) + ───────────⎟⎟\n",
       "                             ⎝                                     2     ⎠⎟\n",
       " a₄⋅cos(c) + d₄⋅sin(c) + ─────────────────────────────────────────────────⎟\n",
       "                                              cos(θ₀)                     ⎠"
      ]
     },
     "execution_count": 174,
     "metadata": {},
     "output_type": "execute_result"
    }
   ],
   "source": [
    "res2[0]"
   ]
  },
  {
   "cell_type": "code",
   "execution_count": 106,
   "metadata": {},
   "outputs": [
    {
     "data": {
      "text/latex": [
       "$\\displaystyle \\left[\\begin{matrix}\\frac{\\left(1 - \\sin^{2}{\\left(\\theta_{0} \\right)}\\right) \\left(a_{0} + a_{1} \\cos{\\left(\\theta_{0} \\right)} + a_{2} \\cos{\\left(\\theta_{0} \\right)} \\cos{\\left(\\theta_{1} \\right)} + a_{3} \\cos{\\left(\\theta_{0} \\right)} \\cos{\\left(\\theta_{1} + \\theta_{2} \\right)} + a_{4} \\cos{\\left(\\theta_{0} \\right)} \\cos{\\left(\\theta_{1} + \\theta_{2} + \\theta_{3} \\right)} + d_{1} \\sin{\\left(\\theta_{0} \\right)} + d_{2} \\sin{\\left(\\theta_{0} \\right)} + d_{3} \\sin{\\left(\\theta_{0} \\right)} - d_{4} \\sin{\\left(\\theta_{1} + \\theta_{2} + \\theta_{3} \\right)} \\cos{\\left(\\theta_{0} \\right)}\\right)}{\\cos{\\left(\\theta_{0} \\right)}} + \\frac{a_{0} \\sin^{2}{\\left(\\theta_{0} \\right)} - a_{0}}{\\cos{\\left(\\theta_{0} \\right)}} + \\left(a_{1} \\sin{\\left(\\theta_{0} \\right)} + a_{2} \\sin{\\left(\\theta_{0} \\right)} \\cos{\\left(\\theta_{1} \\right)} + a_{3} \\sin{\\left(\\theta_{0} \\right)} \\cos{\\left(\\theta_{1} + \\theta_{2} \\right)} + a_{4} \\sin{\\left(\\theta_{0} \\right)} \\cos{\\left(\\theta_{1} + \\theta_{2} + \\theta_{3} \\right)} - d_{1} \\cos{\\left(\\theta_{0} \\right)} - d_{2} \\cos{\\left(\\theta_{0} \\right)} - d_{3} \\cos{\\left(\\theta_{0} \\right)} - d_{4} \\sin{\\left(\\theta_{0} \\right)} \\sin{\\left(\\theta_{1} + \\theta_{2} + \\theta_{3} \\right)}\\right) \\sin{\\left(\\theta_{0} \\right)}\\\\a_{0} \\sin{\\left(\\theta_{0} \\right)} + \\left(a_{1} \\sin{\\left(\\theta_{0} \\right)} + a_{2} \\sin{\\left(\\theta_{0} \\right)} \\cos{\\left(\\theta_{1} \\right)} + a_{3} \\sin{\\left(\\theta_{0} \\right)} \\cos{\\left(\\theta_{1} + \\theta_{2} \\right)} + a_{4} \\sin{\\left(\\theta_{0} \\right)} \\cos{\\left(\\theta_{1} + \\theta_{2} + \\theta_{3} \\right)} - d_{1} \\cos{\\left(\\theta_{0} \\right)} - d_{2} \\cos{\\left(\\theta_{0} \\right)} - d_{3} \\cos{\\left(\\theta_{0} \\right)} - d_{4} \\sin{\\left(\\theta_{0} \\right)} \\sin{\\left(\\theta_{1} + \\theta_{2} + \\theta_{3} \\right)}\\right) \\cos{\\left(\\theta_{0} \\right)} - \\left(a_{0} + a_{1} \\cos{\\left(\\theta_{0} \\right)} + a_{2} \\cos{\\left(\\theta_{0} \\right)} \\cos{\\left(\\theta_{1} \\right)} + a_{3} \\cos{\\left(\\theta_{0} \\right)} \\cos{\\left(\\theta_{1} + \\theta_{2} \\right)} + a_{4} \\cos{\\left(\\theta_{0} \\right)} \\cos{\\left(\\theta_{1} + \\theta_{2} + \\theta_{3} \\right)} + d_{1} \\sin{\\left(\\theta_{0} \\right)} + d_{2} \\sin{\\left(\\theta_{0} \\right)} + d_{3} \\sin{\\left(\\theta_{0} \\right)} - d_{4} \\sin{\\left(\\theta_{1} + \\theta_{2} + \\theta_{3} \\right)} \\cos{\\left(\\theta_{0} \\right)}\\right) \\sin{\\left(\\theta_{0} \\right)}\\\\a_{2} \\sin{\\left(\\theta_{1} \\right)} + a_{3} \\sin{\\left(\\theta_{1} + \\theta_{2} \\right)} + a_{4} \\sin{\\left(\\theta_{1} + \\theta_{2} + \\theta_{3} \\right)} + d_{4} \\cos{\\left(\\theta_{1} + \\theta_{2} + \\theta_{3} \\right)}\\\\1\\end{matrix}\\right]$"
      ],
      "text/plain": [
       "⎡⎛       2    ⎞                                                               \n",
       "⎢⎝1 - sin (θ₀)⎠⋅(a₀ + a₁⋅cos(θ₀) + a₂⋅cos(θ₀)⋅cos(θ₁) + a₃⋅cos(θ₀)⋅cos(θ₁ + θ₂\n",
       "⎢─────────────────────────────────────────────────────────────────────────────\n",
       "⎢                                                                             \n",
       "⎢                                                                             \n",
       "⎢      a₀⋅sin(θ₀) + (a₁⋅sin(θ₀) + a₂⋅sin(θ₀)⋅cos(θ₁) + a₃⋅sin(θ₀)⋅cos(θ₁ + θ₂)\n",
       "⎢                                                                             \n",
       "⎢                                                                             \n",
       "⎢                                                                             \n",
       "⎣                                                                             \n",
       "\n",
       "                                                                              \n",
       ") + a₄⋅cos(θ₀)⋅cos(θ₁ + θ₂ + θ₃) + d₁⋅sin(θ₀) + d₂⋅sin(θ₀) + d₃⋅sin(θ₀) - d₄⋅s\n",
       "──────────────────────────────────────────────────────────────────────────────\n",
       "         cos(θ₀)                                                              \n",
       "                                                                              \n",
       " + a₄⋅sin(θ₀)⋅cos(θ₁ + θ₂ + θ₃) - d₁⋅cos(θ₀) - d₂⋅cos(θ₀) - d₃⋅cos(θ₀) - d₄⋅si\n",
       "                                                                              \n",
       "                                                                       a₂⋅sin(\n",
       "                                                                              \n",
       "                                                                              \n",
       "\n",
       "                                  2                                           \n",
       "in(θ₁ + θ₂ + θ₃)⋅cos(θ₀))   a₀⋅sin (θ₀) - a₀                                  \n",
       "───────────────────────── + ──────────────── + (a₁⋅sin(θ₀) + a₂⋅sin(θ₀)⋅cos(θ₁\n",
       "                                cos(θ₀)                                       \n",
       "                                                                              \n",
       "n(θ₀)⋅sin(θ₁ + θ₂ + θ₃))⋅cos(θ₀) - (a₀ + a₁⋅cos(θ₀) + a₂⋅cos(θ₀)⋅cos(θ₁) + a₃⋅\n",
       "                                                                              \n",
       "θ₁) + a₃⋅sin(θ₁ + θ₂) + a₄⋅sin(θ₁ + θ₂ + θ₃) + d₄⋅cos(θ₁ + θ₂ + θ₃)           \n",
       "                                                                              \n",
       "                             1                                                \n",
       "\n",
       "                                                                              \n",
       "                                                                              \n",
       ") + a₃⋅sin(θ₀)⋅cos(θ₁ + θ₂) + a₄⋅sin(θ₀)⋅cos(θ₁ + θ₂ + θ₃) - d₁⋅cos(θ₀) - d₂⋅c\n",
       "                                                                              \n",
       "                                                                              \n",
       "cos(θ₀)⋅cos(θ₁ + θ₂) + a₄⋅cos(θ₀)⋅cos(θ₁ + θ₂ + θ₃) + d₁⋅sin(θ₀) + d₂⋅sin(θ₀) \n",
       "                                                                              \n",
       "                                                                              \n",
       "                                                                              \n",
       "                                                                              \n",
       "\n",
       "                                                           ⎤\n",
       "                                                           ⎥\n",
       "os(θ₀) - d₃⋅cos(θ₀) - d₄⋅sin(θ₀)⋅sin(θ₁ + θ₂ + θ₃))⋅sin(θ₀)⎥\n",
       "                                                           ⎥\n",
       "                                                           ⎥\n",
       "+ d₃⋅sin(θ₀) - d₄⋅sin(θ₁ + θ₂ + θ₃)⋅cos(θ₀))⋅sin(θ₀)       ⎥\n",
       "                                                           ⎥\n",
       "                                                           ⎥\n",
       "                                                           ⎥\n",
       "                                                           ⎦"
      ]
     },
     "execution_count": 106,
     "metadata": {},
     "output_type": "execute_result"
    }
   ],
   "source": [
    "nsimplify(Tor0.inv()*temp,10**-10,rational=True)"
   ]
  },
  {
   "cell_type": "code",
   "execution_count": 89,
   "metadata": {
    "scrolled": true
   },
   "outputs": [
    {
     "data": {
      "text/latex": [
       "$\\displaystyle \\left[\\begin{matrix}a_{0} + a_{1} \\cos{\\left(\\theta_{0} \\right)} + a_{2} \\cos{\\left(\\theta_{0} \\right)} \\cos{\\left(\\theta_{1} \\right)} + a_{3} \\cos{\\left(\\theta_{0} \\right)} \\cos{\\left(\\theta_{1} + \\theta_{2} \\right)} + a_{4} \\cos{\\left(\\theta_{0} \\right)} \\cos{\\left(\\theta_{1} + \\theta_{2} + \\theta_{3} \\right)} + d_{1} \\sin{\\left(\\theta_{0} \\right)} + d_{2} \\sin{\\left(\\theta_{0} \\right)} + d_{3} \\sin{\\left(\\theta_{0} \\right)} - d_{4} \\sin{\\left(\\theta_{1} + \\theta_{2} + \\theta_{3} \\right)} \\cos{\\left(\\theta_{0} \\right)}\\\\a_{1} \\sin{\\left(\\theta_{0} \\right)} + a_{2} \\sin{\\left(\\theta_{0} \\right)} \\cos{\\left(\\theta_{1} \\right)} + a_{3} \\sin{\\left(\\theta_{0} \\right)} \\cos{\\left(\\theta_{1} + \\theta_{2} \\right)} + a_{4} \\sin{\\left(\\theta_{0} \\right)} \\cos{\\left(\\theta_{1} + \\theta_{2} + \\theta_{3} \\right)} - d_{1} \\cos{\\left(\\theta_{0} \\right)} - d_{2} \\cos{\\left(\\theta_{0} \\right)} - d_{3} \\cos{\\left(\\theta_{0} \\right)} - d_{4} \\sin{\\left(\\theta_{0} \\right)} \\sin{\\left(\\theta_{1} + \\theta_{2} + \\theta_{3} \\right)}\\\\a_{2} \\sin{\\left(\\theta_{1} \\right)} + a_{3} \\sin{\\left(\\theta_{1} + \\theta_{2} \\right)} + a_{4} \\sin{\\left(\\theta_{1} + \\theta_{2} + \\theta_{3} \\right)} + d_{0} + d_{4} \\cos{\\left(\\theta_{1} + \\theta_{2} + \\theta_{3} \\right)}\\\\1\\end{matrix}\\right]$"
      ],
      "text/plain": [
       "⎡a₀ + a₁⋅cos(θ₀) + a₂⋅cos(θ₀)⋅cos(θ₁) + a₃⋅cos(θ₀)⋅cos(θ₁ + θ₂) + a₄⋅cos(θ₀)⋅c\n",
       "⎢                                                                             \n",
       "⎢  a₁⋅sin(θ₀) + a₂⋅sin(θ₀)⋅cos(θ₁) + a₃⋅sin(θ₀)⋅cos(θ₁ + θ₂) + a₄⋅sin(θ₀)⋅cos(\n",
       "⎢                                                                             \n",
       "⎢                                          a₂⋅sin(θ₁) + a₃⋅sin(θ₁ + θ₂) + a₄⋅s\n",
       "⎢                                                                             \n",
       "⎣                                                                             \n",
       "\n",
       "os(θ₁ + θ₂ + θ₃) + d₁⋅sin(θ₀) + d₂⋅sin(θ₀) + d₃⋅sin(θ₀) - d₄⋅sin(θ₁ + θ₂ + θ₃)\n",
       "                                                                              \n",
       "θ₁ + θ₂ + θ₃) - d₁⋅cos(θ₀) - d₂⋅cos(θ₀) - d₃⋅cos(θ₀) - d₄⋅sin(θ₀)⋅sin(θ₁ + θ₂ \n",
       "                                                                              \n",
       "in(θ₁ + θ₂ + θ₃) + d₀ + d₄⋅cos(θ₁ + θ₂ + θ₃)                                  \n",
       "                                                                              \n",
       "    1                                                                         \n",
       "\n",
       "⋅cos(θ₀)⎤\n",
       "        ⎥\n",
       "+ θ₃)   ⎥\n",
       "        ⎥\n",
       "        ⎥\n",
       "        ⎥\n",
       "        ⎦"
      ]
     },
     "execution_count": 89,
     "metadata": {},
     "output_type": "execute_result"
    }
   ],
   "source": [
    "temp"
   ]
  },
  {
   "cell_type": "code",
   "execution_count": 301,
   "metadata": {},
   "outputs": [
    {
     "data": {
      "image/png": "[encoded data removed]",
      "text/latex": [
       "$\\displaystyle 0.4636476090008061$"
      ],
      "text/plain": [
       "0.4636476090008061"
      ]
     },
     "execution_count": 301,
     "metadata": {},
     "output_type": "execute_result"
    }
   ],
   "source": [
    "import math\n",
    "math.atan2(1,2)"
   ]
  }
 ],
 "metadata": {
  "kernelspec": {
   "display_name": "Python 3",
   "language": "python",
   "name": "python3"
  },
  "language_info": {
   "codemirror_mode": {
    "name": "ipython",
    "version": 3
   },
   "file_extension": ".py",
   "mimetype": "text/x-python",
   "name": "python",
   "nbconvert_exporter": "python",
   "pygments_lexer": "ipython3",
   "version": "3.7.3"
  }
 },
 "nbformat": 4,
 "nbformat_minor": 2
}
